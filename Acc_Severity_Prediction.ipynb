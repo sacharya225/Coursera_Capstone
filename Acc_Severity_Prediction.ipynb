{
 "cells": [
  {
   "cell_type": "markdown",
   "metadata": {},
   "source": [
    "###                                                 <center>Predicting the Severity of Accidents in Seattle</center>\n",
    "####                                    <center>Shwetha Acharya</center>\n",
    "####                                                                                           <center>Oct 22, 2020</center>\n"
   ]
  },
  {
   "cell_type": "markdown",
   "metadata": {},
   "source": [
    "### Introduction"
   ]
  },
  {
   "cell_type": "markdown",
   "metadata": {},
   "source": [
    "#### 1.1\tBackground\n",
    "In the recent past we have seen an increase in the number of road accidents in Seattle. While some of these accidents just cause property damage some are serious, resulting in heavy injuries and fatalities to drivers and passengers and pedestrians. With this trend, driving on highways and roads poses a risk to the lives of people. There may be different reasons for these accidents such as poor road conditions, light and weather conditions and so on. The idea is to use data science techniques to understand if we can predict the gravity of the accidents on account of collisions.\n",
    "\n",
    "#### 1.2\tProblem\n",
    "Data that might contribute to determining accident severity might include road conditions, light and weather conditions, car speeding, drunken driving.  This project aims at predicting accident severity based on historic data.\n",
    "\n",
    "#### 1.3\tInterest\n",
    "This analysis and prediction will help drivers and passengers of various vehicles such as trucks, cars as well as pedestrians taking these road routes as it will serve as a safety warning to them. In addition, it would help traffic cops monitoring these areas – making them more vigilant and taking steps to avoid collisions and accidents, thus saving/securing lives of people.\n"
   ]
  },
  {
   "cell_type": "markdown",
   "metadata": {},
   "source": [
    "### 2.\tData Acquisition\n",
    "2.1\tData Sources\n",
    "Data for this study is taken from Seattle Department of Transportation - Traffic Management Division, Traffic Records Group**. It includes information on all types of collisions from 2004 till date (2020). The key features in the dataset encompass accident severity in terms of numeric codes, collision description, address type (whether intersection, alley or block), X and Y co-ordinates, number of vehicles and pedestrians involved, light, road and weather conditions, speeding, whether driving under the influence.\n"
   ]
  },
  {
   "cell_type": "markdown",
   "metadata": {},
   "source": [
    "Importing the libraries required for data analysis"
   ]
  },
  {
   "cell_type": "code",
   "execution_count": 61,
   "metadata": {
    "ExecuteTime": {
     "end_time": "2020-11-04T17:17:23.961371Z",
     "start_time": "2020-11-04T17:17:23.944955Z"
    }
   },
   "outputs": [],
   "source": [
    "import pandas as pd\n",
    "import numpy as np\n",
    "import seaborn as sns\n",
    "import matplotlib.pyplot as plt\n",
    "import folium\n",
    "from sklearn.metrics import confusion_matrix\n",
    "import seaborn as sns\n",
    "from sklearn.preprocessing import StandardScaler,MinMaxScaler\n",
    "from sklearn.metrics import classification_report\n",
    "from sklearn.model_selection import cross_val_score\n",
    "import xgboost as xgb\n"
   ]
  },
  {
   "cell_type": "markdown",
   "metadata": {},
   "source": [
    "Load the dataset"
   ]
  },
  {
   "cell_type": "code",
   "execution_count": 62,
   "metadata": {
    "ExecuteTime": {
     "end_time": "2020-11-04T17:17:27.550079Z",
     "start_time": "2020-11-04T17:17:23.970374Z"
    }
   },
   "outputs": [
    {
     "name": "stderr",
     "output_type": "stream",
     "text": [
      "c:\\python36\\lib\\site-packages\\IPython\\core\\interactiveshell.py:3072: DtypeWarning: Columns (33) have mixed types.Specify dtype option on import or set low_memory=False.\n",
      "  interactivity=interactivity, compiler=compiler, result=result)\n"
     ]
    },
    {
     "data": {
      "text/html": [
       "<div>\n",
       "<style scoped>\n",
       "    .dataframe tbody tr th:only-of-type {\n",
       "        vertical-align: middle;\n",
       "    }\n",
       "\n",
       "    .dataframe tbody tr th {\n",
       "        vertical-align: top;\n",
       "    }\n",
       "\n",
       "    .dataframe thead th {\n",
       "        text-align: right;\n",
       "    }\n",
       "</style>\n",
       "<table border=\"1\" class=\"dataframe\">\n",
       "  <thead>\n",
       "    <tr style=\"text-align: right;\">\n",
       "      <th></th>\n",
       "      <th>SEVERITYCODE</th>\n",
       "      <th>X</th>\n",
       "      <th>Y</th>\n",
       "      <th>OBJECTID</th>\n",
       "      <th>INCKEY</th>\n",
       "      <th>COLDETKEY</th>\n",
       "      <th>REPORTNO</th>\n",
       "      <th>STATUS</th>\n",
       "      <th>ADDRTYPE</th>\n",
       "      <th>INTKEY</th>\n",
       "      <th>...</th>\n",
       "      <th>ROADCOND</th>\n",
       "      <th>LIGHTCOND</th>\n",
       "      <th>PEDROWNOTGRNT</th>\n",
       "      <th>SDOTCOLNUM</th>\n",
       "      <th>SPEEDING</th>\n",
       "      <th>ST_COLCODE</th>\n",
       "      <th>ST_COLDESC</th>\n",
       "      <th>SEGLANEKEY</th>\n",
       "      <th>CROSSWALKKEY</th>\n",
       "      <th>HITPARKEDCAR</th>\n",
       "    </tr>\n",
       "  </thead>\n",
       "  <tbody>\n",
       "    <tr>\n",
       "      <th>0</th>\n",
       "      <td>2</td>\n",
       "      <td>-122.323148</td>\n",
       "      <td>47.703140</td>\n",
       "      <td>1</td>\n",
       "      <td>1307</td>\n",
       "      <td>1307</td>\n",
       "      <td>3502005</td>\n",
       "      <td>Matched</td>\n",
       "      <td>Intersection</td>\n",
       "      <td>37475.0</td>\n",
       "      <td>...</td>\n",
       "      <td>Wet</td>\n",
       "      <td>Daylight</td>\n",
       "      <td>NaN</td>\n",
       "      <td>NaN</td>\n",
       "      <td>NaN</td>\n",
       "      <td>10</td>\n",
       "      <td>Entering at angle</td>\n",
       "      <td>0</td>\n",
       "      <td>0</td>\n",
       "      <td>N</td>\n",
       "    </tr>\n",
       "    <tr>\n",
       "      <th>1</th>\n",
       "      <td>1</td>\n",
       "      <td>-122.347294</td>\n",
       "      <td>47.647172</td>\n",
       "      <td>2</td>\n",
       "      <td>52200</td>\n",
       "      <td>52200</td>\n",
       "      <td>2607959</td>\n",
       "      <td>Matched</td>\n",
       "      <td>Block</td>\n",
       "      <td>NaN</td>\n",
       "      <td>...</td>\n",
       "      <td>Wet</td>\n",
       "      <td>Dark - Street Lights On</td>\n",
       "      <td>NaN</td>\n",
       "      <td>6354039.0</td>\n",
       "      <td>NaN</td>\n",
       "      <td>11</td>\n",
       "      <td>From same direction - both going straight - bo...</td>\n",
       "      <td>0</td>\n",
       "      <td>0</td>\n",
       "      <td>N</td>\n",
       "    </tr>\n",
       "    <tr>\n",
       "      <th>2</th>\n",
       "      <td>1</td>\n",
       "      <td>-122.334540</td>\n",
       "      <td>47.607871</td>\n",
       "      <td>3</td>\n",
       "      <td>26700</td>\n",
       "      <td>26700</td>\n",
       "      <td>1482393</td>\n",
       "      <td>Matched</td>\n",
       "      <td>Block</td>\n",
       "      <td>NaN</td>\n",
       "      <td>...</td>\n",
       "      <td>Dry</td>\n",
       "      <td>Daylight</td>\n",
       "      <td>NaN</td>\n",
       "      <td>4323031.0</td>\n",
       "      <td>NaN</td>\n",
       "      <td>32</td>\n",
       "      <td>One parked--one moving</td>\n",
       "      <td>0</td>\n",
       "      <td>0</td>\n",
       "      <td>N</td>\n",
       "    </tr>\n",
       "    <tr>\n",
       "      <th>3</th>\n",
       "      <td>1</td>\n",
       "      <td>-122.334803</td>\n",
       "      <td>47.604803</td>\n",
       "      <td>4</td>\n",
       "      <td>1144</td>\n",
       "      <td>1144</td>\n",
       "      <td>3503937</td>\n",
       "      <td>Matched</td>\n",
       "      <td>Block</td>\n",
       "      <td>NaN</td>\n",
       "      <td>...</td>\n",
       "      <td>Dry</td>\n",
       "      <td>Daylight</td>\n",
       "      <td>NaN</td>\n",
       "      <td>NaN</td>\n",
       "      <td>NaN</td>\n",
       "      <td>23</td>\n",
       "      <td>From same direction - all others</td>\n",
       "      <td>0</td>\n",
       "      <td>0</td>\n",
       "      <td>N</td>\n",
       "    </tr>\n",
       "    <tr>\n",
       "      <th>4</th>\n",
       "      <td>2</td>\n",
       "      <td>-122.306426</td>\n",
       "      <td>47.545739</td>\n",
       "      <td>5</td>\n",
       "      <td>17700</td>\n",
       "      <td>17700</td>\n",
       "      <td>1807429</td>\n",
       "      <td>Matched</td>\n",
       "      <td>Intersection</td>\n",
       "      <td>34387.0</td>\n",
       "      <td>...</td>\n",
       "      <td>Wet</td>\n",
       "      <td>Daylight</td>\n",
       "      <td>NaN</td>\n",
       "      <td>4028032.0</td>\n",
       "      <td>NaN</td>\n",
       "      <td>10</td>\n",
       "      <td>Entering at angle</td>\n",
       "      <td>0</td>\n",
       "      <td>0</td>\n",
       "      <td>N</td>\n",
       "    </tr>\n",
       "  </tbody>\n",
       "</table>\n",
       "<p>5 rows × 38 columns</p>\n",
       "</div>"
      ],
      "text/plain": [
       "   SEVERITYCODE           X          Y  OBJECTID  INCKEY  COLDETKEY REPORTNO  \\\n",
       "0             2 -122.323148  47.703140         1    1307       1307  3502005   \n",
       "1             1 -122.347294  47.647172         2   52200      52200  2607959   \n",
       "2             1 -122.334540  47.607871         3   26700      26700  1482393   \n",
       "3             1 -122.334803  47.604803         4    1144       1144  3503937   \n",
       "4             2 -122.306426  47.545739         5   17700      17700  1807429   \n",
       "\n",
       "    STATUS      ADDRTYPE   INTKEY  ... ROADCOND                LIGHTCOND  \\\n",
       "0  Matched  Intersection  37475.0  ...      Wet                 Daylight   \n",
       "1  Matched         Block      NaN  ...      Wet  Dark - Street Lights On   \n",
       "2  Matched         Block      NaN  ...      Dry                 Daylight   \n",
       "3  Matched         Block      NaN  ...      Dry                 Daylight   \n",
       "4  Matched  Intersection  34387.0  ...      Wet                 Daylight   \n",
       "\n",
       "  PEDROWNOTGRNT  SDOTCOLNUM SPEEDING ST_COLCODE  \\\n",
       "0           NaN         NaN      NaN         10   \n",
       "1           NaN   6354039.0      NaN         11   \n",
       "2           NaN   4323031.0      NaN         32   \n",
       "3           NaN         NaN      NaN         23   \n",
       "4           NaN   4028032.0      NaN         10   \n",
       "\n",
       "                                          ST_COLDESC  SEGLANEKEY  \\\n",
       "0                                  Entering at angle           0   \n",
       "1  From same direction - both going straight - bo...           0   \n",
       "2                             One parked--one moving           0   \n",
       "3                   From same direction - all others           0   \n",
       "4                                  Entering at angle           0   \n",
       "\n",
       "   CROSSWALKKEY  HITPARKEDCAR  \n",
       "0             0             N  \n",
       "1             0             N  \n",
       "2             0             N  \n",
       "3             0             N  \n",
       "4             0             N  \n",
       "\n",
       "[5 rows x 38 columns]"
      ]
     },
     "execution_count": 62,
     "metadata": {},
     "output_type": "execute_result"
    }
   ],
   "source": [
    "file='C:\\Python_Projects\\Data Analytics\\capstone\\Data-Collisions.csv'\n",
    "df=pd.read_csv(file)\n",
    "df.head()"
   ]
  },
  {
   "cell_type": "markdown",
   "metadata": {},
   "source": [
    "### Data Cleaning"
   ]
  },
  {
   "cell_type": "code",
   "execution_count": 63,
   "metadata": {
    "ExecuteTime": {
     "end_time": "2020-11-04T17:17:27.574168Z",
     "start_time": "2020-11-04T17:17:27.554100Z"
    }
   },
   "outputs": [
    {
     "data": {
      "text/plain": [
       "(194673, 38)"
      ]
     },
     "execution_count": 63,
     "metadata": {},
     "output_type": "execute_result"
    }
   ],
   "source": [
    "df.shape"
   ]
  },
  {
   "cell_type": "markdown",
   "metadata": {},
   "source": [
    "There are 37 attributes and the target label(Y) is severity code. Lets examine each of these attributes and see if we can drop any features"
   ]
  },
  {
   "cell_type": "code",
   "execution_count": 64,
   "metadata": {
    "ExecuteTime": {
     "end_time": "2020-11-04T17:17:27.964049Z",
     "start_time": "2020-11-04T17:17:27.735876Z"
    }
   },
   "outputs": [
    {
     "data": {
      "text/plain": [
       "Index(['SEVERITYCODE', 'X', 'Y', 'OBJECTID', 'INCKEY', 'COLDETKEY', 'REPORTNO',\n",
       "       'STATUS', 'ADDRTYPE', 'INTKEY', 'LOCATION', 'EXCEPTRSNCODE',\n",
       "       'EXCEPTRSNDESC', 'SEVERITYCODE.1', 'SEVERITYDESC', 'COLLISIONTYPE',\n",
       "       'PERSONCOUNT', 'PEDCOUNT', 'PEDCYLCOUNT', 'VEHCOUNT', 'INCDATE',\n",
       "       'INCDTTM', 'JUNCTIONTYPE', 'SDOT_COLCODE', 'SDOT_COLDESC',\n",
       "       'INATTENTIONIND', 'UNDERINFL', 'WEATHER', 'ROADCOND', 'LIGHTCOND',\n",
       "       'PEDROWNOTGRNT', 'SDOTCOLNUM', 'SPEEDING', 'ST_COLCODE', 'ST_COLDESC',\n",
       "       'SEGLANEKEY', 'CROSSWALKKEY', 'HITPARKEDCAR'],\n",
       "      dtype='object')"
      ]
     },
     "execution_count": 64,
     "metadata": {},
     "output_type": "execute_result"
    }
   ],
   "source": [
    "df.columns"
   ]
  },
  {
   "cell_type": "code",
   "execution_count": 65,
   "metadata": {
    "ExecuteTime": {
     "end_time": "2020-11-04T17:17:31.359378Z",
     "start_time": "2020-11-04T17:17:27.967935Z"
    }
   },
   "outputs": [
    {
     "data": {
      "text/html": [
       "<div>\n",
       "<style scoped>\n",
       "    .dataframe tbody tr th:only-of-type {\n",
       "        vertical-align: middle;\n",
       "    }\n",
       "\n",
       "    .dataframe tbody tr th {\n",
       "        vertical-align: top;\n",
       "    }\n",
       "\n",
       "    .dataframe thead th {\n",
       "        text-align: right;\n",
       "    }\n",
       "</style>\n",
       "<table border=\"1\" class=\"dataframe\">\n",
       "  <thead>\n",
       "    <tr style=\"text-align: right;\">\n",
       "      <th></th>\n",
       "      <th>SEVERITYCODE</th>\n",
       "      <th>X</th>\n",
       "      <th>Y</th>\n",
       "      <th>OBJECTID</th>\n",
       "      <th>INCKEY</th>\n",
       "      <th>COLDETKEY</th>\n",
       "      <th>REPORTNO</th>\n",
       "      <th>STATUS</th>\n",
       "      <th>ADDRTYPE</th>\n",
       "      <th>INTKEY</th>\n",
       "      <th>...</th>\n",
       "      <th>ROADCOND</th>\n",
       "      <th>LIGHTCOND</th>\n",
       "      <th>PEDROWNOTGRNT</th>\n",
       "      <th>SDOTCOLNUM</th>\n",
       "      <th>SPEEDING</th>\n",
       "      <th>ST_COLCODE</th>\n",
       "      <th>ST_COLDESC</th>\n",
       "      <th>SEGLANEKEY</th>\n",
       "      <th>CROSSWALKKEY</th>\n",
       "      <th>HITPARKEDCAR</th>\n",
       "    </tr>\n",
       "  </thead>\n",
       "  <tbody>\n",
       "    <tr>\n",
       "      <th>count</th>\n",
       "      <td>194673.000000</td>\n",
       "      <td>189339.000000</td>\n",
       "      <td>189339.000000</td>\n",
       "      <td>194673.000000</td>\n",
       "      <td>194673.000000</td>\n",
       "      <td>194673.000000</td>\n",
       "      <td>194673</td>\n",
       "      <td>194673</td>\n",
       "      <td>192747</td>\n",
       "      <td>65070.000000</td>\n",
       "      <td>...</td>\n",
       "      <td>189661</td>\n",
       "      <td>189503</td>\n",
       "      <td>4667</td>\n",
       "      <td>1.149360e+05</td>\n",
       "      <td>9333</td>\n",
       "      <td>194655</td>\n",
       "      <td>189769</td>\n",
       "      <td>194673.000000</td>\n",
       "      <td>1.946730e+05</td>\n",
       "      <td>194673</td>\n",
       "    </tr>\n",
       "    <tr>\n",
       "      <th>unique</th>\n",
       "      <td>NaN</td>\n",
       "      <td>NaN</td>\n",
       "      <td>NaN</td>\n",
       "      <td>NaN</td>\n",
       "      <td>NaN</td>\n",
       "      <td>NaN</td>\n",
       "      <td>194670</td>\n",
       "      <td>2</td>\n",
       "      <td>3</td>\n",
       "      <td>NaN</td>\n",
       "      <td>...</td>\n",
       "      <td>9</td>\n",
       "      <td>9</td>\n",
       "      <td>1</td>\n",
       "      <td>NaN</td>\n",
       "      <td>1</td>\n",
       "      <td>115</td>\n",
       "      <td>62</td>\n",
       "      <td>NaN</td>\n",
       "      <td>NaN</td>\n",
       "      <td>2</td>\n",
       "    </tr>\n",
       "    <tr>\n",
       "      <th>top</th>\n",
       "      <td>NaN</td>\n",
       "      <td>NaN</td>\n",
       "      <td>NaN</td>\n",
       "      <td>NaN</td>\n",
       "      <td>NaN</td>\n",
       "      <td>NaN</td>\n",
       "      <td>1780512</td>\n",
       "      <td>Matched</td>\n",
       "      <td>Block</td>\n",
       "      <td>NaN</td>\n",
       "      <td>...</td>\n",
       "      <td>Dry</td>\n",
       "      <td>Daylight</td>\n",
       "      <td>Y</td>\n",
       "      <td>NaN</td>\n",
       "      <td>Y</td>\n",
       "      <td>32</td>\n",
       "      <td>One parked--one moving</td>\n",
       "      <td>NaN</td>\n",
       "      <td>NaN</td>\n",
       "      <td>N</td>\n",
       "    </tr>\n",
       "    <tr>\n",
       "      <th>freq</th>\n",
       "      <td>NaN</td>\n",
       "      <td>NaN</td>\n",
       "      <td>NaN</td>\n",
       "      <td>NaN</td>\n",
       "      <td>NaN</td>\n",
       "      <td>NaN</td>\n",
       "      <td>2</td>\n",
       "      <td>189786</td>\n",
       "      <td>126926</td>\n",
       "      <td>NaN</td>\n",
       "      <td>...</td>\n",
       "      <td>124510</td>\n",
       "      <td>116137</td>\n",
       "      <td>4667</td>\n",
       "      <td>NaN</td>\n",
       "      <td>9333</td>\n",
       "      <td>27612</td>\n",
       "      <td>44421</td>\n",
       "      <td>NaN</td>\n",
       "      <td>NaN</td>\n",
       "      <td>187457</td>\n",
       "    </tr>\n",
       "    <tr>\n",
       "      <th>mean</th>\n",
       "      <td>1.298901</td>\n",
       "      <td>-122.330518</td>\n",
       "      <td>47.619543</td>\n",
       "      <td>108479.364930</td>\n",
       "      <td>141091.456350</td>\n",
       "      <td>141298.811381</td>\n",
       "      <td>NaN</td>\n",
       "      <td>NaN</td>\n",
       "      <td>NaN</td>\n",
       "      <td>37558.450576</td>\n",
       "      <td>...</td>\n",
       "      <td>NaN</td>\n",
       "      <td>NaN</td>\n",
       "      <td>NaN</td>\n",
       "      <td>7.972521e+06</td>\n",
       "      <td>NaN</td>\n",
       "      <td>NaN</td>\n",
       "      <td>NaN</td>\n",
       "      <td>269.401114</td>\n",
       "      <td>9.782452e+03</td>\n",
       "      <td>NaN</td>\n",
       "    </tr>\n",
       "    <tr>\n",
       "      <th>std</th>\n",
       "      <td>0.457778</td>\n",
       "      <td>0.029976</td>\n",
       "      <td>0.056157</td>\n",
       "      <td>62649.722558</td>\n",
       "      <td>86634.402737</td>\n",
       "      <td>86986.542110</td>\n",
       "      <td>NaN</td>\n",
       "      <td>NaN</td>\n",
       "      <td>NaN</td>\n",
       "      <td>51745.990273</td>\n",
       "      <td>...</td>\n",
       "      <td>NaN</td>\n",
       "      <td>NaN</td>\n",
       "      <td>NaN</td>\n",
       "      <td>2.553533e+06</td>\n",
       "      <td>NaN</td>\n",
       "      <td>NaN</td>\n",
       "      <td>NaN</td>\n",
       "      <td>3315.776055</td>\n",
       "      <td>7.226926e+04</td>\n",
       "      <td>NaN</td>\n",
       "    </tr>\n",
       "    <tr>\n",
       "      <th>min</th>\n",
       "      <td>1.000000</td>\n",
       "      <td>-122.419091</td>\n",
       "      <td>47.495573</td>\n",
       "      <td>1.000000</td>\n",
       "      <td>1001.000000</td>\n",
       "      <td>1001.000000</td>\n",
       "      <td>NaN</td>\n",
       "      <td>NaN</td>\n",
       "      <td>NaN</td>\n",
       "      <td>23807.000000</td>\n",
       "      <td>...</td>\n",
       "      <td>NaN</td>\n",
       "      <td>NaN</td>\n",
       "      <td>NaN</td>\n",
       "      <td>1.007024e+06</td>\n",
       "      <td>NaN</td>\n",
       "      <td>NaN</td>\n",
       "      <td>NaN</td>\n",
       "      <td>0.000000</td>\n",
       "      <td>0.000000e+00</td>\n",
       "      <td>NaN</td>\n",
       "    </tr>\n",
       "    <tr>\n",
       "      <th>25%</th>\n",
       "      <td>1.000000</td>\n",
       "      <td>-122.348673</td>\n",
       "      <td>47.575956</td>\n",
       "      <td>54267.000000</td>\n",
       "      <td>70383.000000</td>\n",
       "      <td>70383.000000</td>\n",
       "      <td>NaN</td>\n",
       "      <td>NaN</td>\n",
       "      <td>NaN</td>\n",
       "      <td>28667.000000</td>\n",
       "      <td>...</td>\n",
       "      <td>NaN</td>\n",
       "      <td>NaN</td>\n",
       "      <td>NaN</td>\n",
       "      <td>6.040015e+06</td>\n",
       "      <td>NaN</td>\n",
       "      <td>NaN</td>\n",
       "      <td>NaN</td>\n",
       "      <td>0.000000</td>\n",
       "      <td>0.000000e+00</td>\n",
       "      <td>NaN</td>\n",
       "    </tr>\n",
       "    <tr>\n",
       "      <th>50%</th>\n",
       "      <td>1.000000</td>\n",
       "      <td>-122.330224</td>\n",
       "      <td>47.615369</td>\n",
       "      <td>106912.000000</td>\n",
       "      <td>123363.000000</td>\n",
       "      <td>123363.000000</td>\n",
       "      <td>NaN</td>\n",
       "      <td>NaN</td>\n",
       "      <td>NaN</td>\n",
       "      <td>29973.000000</td>\n",
       "      <td>...</td>\n",
       "      <td>NaN</td>\n",
       "      <td>NaN</td>\n",
       "      <td>NaN</td>\n",
       "      <td>8.023022e+06</td>\n",
       "      <td>NaN</td>\n",
       "      <td>NaN</td>\n",
       "      <td>NaN</td>\n",
       "      <td>0.000000</td>\n",
       "      <td>0.000000e+00</td>\n",
       "      <td>NaN</td>\n",
       "    </tr>\n",
       "    <tr>\n",
       "      <th>75%</th>\n",
       "      <td>2.000000</td>\n",
       "      <td>-122.311937</td>\n",
       "      <td>47.663664</td>\n",
       "      <td>162272.000000</td>\n",
       "      <td>203319.000000</td>\n",
       "      <td>203459.000000</td>\n",
       "      <td>NaN</td>\n",
       "      <td>NaN</td>\n",
       "      <td>NaN</td>\n",
       "      <td>33973.000000</td>\n",
       "      <td>...</td>\n",
       "      <td>NaN</td>\n",
       "      <td>NaN</td>\n",
       "      <td>NaN</td>\n",
       "      <td>1.015501e+07</td>\n",
       "      <td>NaN</td>\n",
       "      <td>NaN</td>\n",
       "      <td>NaN</td>\n",
       "      <td>0.000000</td>\n",
       "      <td>0.000000e+00</td>\n",
       "      <td>NaN</td>\n",
       "    </tr>\n",
       "    <tr>\n",
       "      <th>max</th>\n",
       "      <td>2.000000</td>\n",
       "      <td>-122.238949</td>\n",
       "      <td>47.734142</td>\n",
       "      <td>219547.000000</td>\n",
       "      <td>331454.000000</td>\n",
       "      <td>332954.000000</td>\n",
       "      <td>NaN</td>\n",
       "      <td>NaN</td>\n",
       "      <td>NaN</td>\n",
       "      <td>757580.000000</td>\n",
       "      <td>...</td>\n",
       "      <td>NaN</td>\n",
       "      <td>NaN</td>\n",
       "      <td>NaN</td>\n",
       "      <td>1.307202e+07</td>\n",
       "      <td>NaN</td>\n",
       "      <td>NaN</td>\n",
       "      <td>NaN</td>\n",
       "      <td>525241.000000</td>\n",
       "      <td>5.239700e+06</td>\n",
       "      <td>NaN</td>\n",
       "    </tr>\n",
       "  </tbody>\n",
       "</table>\n",
       "<p>11 rows × 38 columns</p>\n",
       "</div>"
      ],
      "text/plain": [
       "         SEVERITYCODE              X              Y       OBJECTID  \\\n",
       "count   194673.000000  189339.000000  189339.000000  194673.000000   \n",
       "unique            NaN            NaN            NaN            NaN   \n",
       "top               NaN            NaN            NaN            NaN   \n",
       "freq              NaN            NaN            NaN            NaN   \n",
       "mean         1.298901    -122.330518      47.619543  108479.364930   \n",
       "std          0.457778       0.029976       0.056157   62649.722558   \n",
       "min          1.000000    -122.419091      47.495573       1.000000   \n",
       "25%          1.000000    -122.348673      47.575956   54267.000000   \n",
       "50%          1.000000    -122.330224      47.615369  106912.000000   \n",
       "75%          2.000000    -122.311937      47.663664  162272.000000   \n",
       "max          2.000000    -122.238949      47.734142  219547.000000   \n",
       "\n",
       "               INCKEY      COLDETKEY REPORTNO   STATUS ADDRTYPE  \\\n",
       "count   194673.000000  194673.000000   194673   194673   192747   \n",
       "unique            NaN            NaN   194670        2        3   \n",
       "top               NaN            NaN  1780512  Matched    Block   \n",
       "freq              NaN            NaN        2   189786   126926   \n",
       "mean    141091.456350  141298.811381      NaN      NaN      NaN   \n",
       "std      86634.402737   86986.542110      NaN      NaN      NaN   \n",
       "min       1001.000000    1001.000000      NaN      NaN      NaN   \n",
       "25%      70383.000000   70383.000000      NaN      NaN      NaN   \n",
       "50%     123363.000000  123363.000000      NaN      NaN      NaN   \n",
       "75%     203319.000000  203459.000000      NaN      NaN      NaN   \n",
       "max     331454.000000  332954.000000      NaN      NaN      NaN   \n",
       "\n",
       "               INTKEY  ... ROADCOND LIGHTCOND PEDROWNOTGRNT    SDOTCOLNUM  \\\n",
       "count    65070.000000  ...   189661    189503          4667  1.149360e+05   \n",
       "unique            NaN  ...        9         9             1           NaN   \n",
       "top               NaN  ...      Dry  Daylight             Y           NaN   \n",
       "freq              NaN  ...   124510    116137          4667           NaN   \n",
       "mean     37558.450576  ...      NaN       NaN           NaN  7.972521e+06   \n",
       "std      51745.990273  ...      NaN       NaN           NaN  2.553533e+06   \n",
       "min      23807.000000  ...      NaN       NaN           NaN  1.007024e+06   \n",
       "25%      28667.000000  ...      NaN       NaN           NaN  6.040015e+06   \n",
       "50%      29973.000000  ...      NaN       NaN           NaN  8.023022e+06   \n",
       "75%      33973.000000  ...      NaN       NaN           NaN  1.015501e+07   \n",
       "max     757580.000000  ...      NaN       NaN           NaN  1.307202e+07   \n",
       "\n",
       "       SPEEDING ST_COLCODE              ST_COLDESC     SEGLANEKEY  \\\n",
       "count      9333     194655                  189769  194673.000000   \n",
       "unique        1        115                      62            NaN   \n",
       "top           Y         32  One parked--one moving            NaN   \n",
       "freq       9333      27612                   44421            NaN   \n",
       "mean        NaN        NaN                     NaN     269.401114   \n",
       "std         NaN        NaN                     NaN    3315.776055   \n",
       "min         NaN        NaN                     NaN       0.000000   \n",
       "25%         NaN        NaN                     NaN       0.000000   \n",
       "50%         NaN        NaN                     NaN       0.000000   \n",
       "75%         NaN        NaN                     NaN       0.000000   \n",
       "max         NaN        NaN                     NaN  525241.000000   \n",
       "\n",
       "        CROSSWALKKEY  HITPARKEDCAR  \n",
       "count   1.946730e+05        194673  \n",
       "unique           NaN             2  \n",
       "top              NaN             N  \n",
       "freq             NaN        187457  \n",
       "mean    9.782452e+03           NaN  \n",
       "std     7.226926e+04           NaN  \n",
       "min     0.000000e+00           NaN  \n",
       "25%     0.000000e+00           NaN  \n",
       "50%     0.000000e+00           NaN  \n",
       "75%     0.000000e+00           NaN  \n",
       "max     5.239700e+06           NaN  \n",
       "\n",
       "[11 rows x 38 columns]"
      ]
     },
     "execution_count": 65,
     "metadata": {},
     "output_type": "execute_result"
    }
   ],
   "source": [
    "df.describe(include=\"all\")"
   ]
  },
  {
   "cell_type": "markdown",
   "metadata": {},
   "source": [
    "Lets examine dataset for null values"
   ]
  },
  {
   "cell_type": "code",
   "execution_count": 66,
   "metadata": {
    "ExecuteTime": {
     "end_time": "2020-11-04T17:17:31.927953Z",
     "start_time": "2020-11-04T17:17:31.363276Z"
    }
   },
   "outputs": [
    {
     "data": {
      "text/plain": [
       "PEDROWNOTGRNT     97.602646\n",
       "EXCEPTRSNDESC     97.103861\n",
       "SPEEDING          95.205807\n",
       "INATTENTIONIND    84.689710\n",
       "INTKEY            66.574718\n",
       "EXCEPTRSNCODE     56.434123\n",
       "SDOTCOLNUM        40.959455\n",
       "JUNCTIONTYPE       3.251093\n",
       "Y                  2.739979\n",
       "X                  2.739979\n",
       "LIGHTCOND          2.655736\n",
       "WEATHER            2.610018\n",
       "ROADCOND           2.574574\n",
       "ST_COLDESC         2.519096\n",
       "COLLISIONTYPE      2.519096\n",
       "UNDERINFL          2.508822\n",
       "LOCATION           1.375126\n",
       "ADDRTYPE           0.989351\n",
       "ST_COLCODE         0.009246\n",
       "INCKEY             0.000000\n",
       "STATUS             0.000000\n",
       "REPORTNO           0.000000\n",
       "COLDETKEY          0.000000\n",
       "OBJECTID           0.000000\n",
       "HITPARKEDCAR       0.000000\n",
       "PEDCYLCOUNT        0.000000\n",
       "SEVERITYCODE.1     0.000000\n",
       "SEVERITYDESC       0.000000\n",
       "PERSONCOUNT        0.000000\n",
       "PEDCOUNT           0.000000\n",
       "CROSSWALKKEY       0.000000\n",
       "VEHCOUNT           0.000000\n",
       "INCDATE            0.000000\n",
       "INCDTTM            0.000000\n",
       "SDOT_COLCODE       0.000000\n",
       "SDOT_COLDESC       0.000000\n",
       "SEGLANEKEY         0.000000\n",
       "SEVERITYCODE       0.000000\n",
       "dtype: float64"
      ]
     },
     "execution_count": 66,
     "metadata": {},
     "output_type": "execute_result"
    }
   ],
   "source": [
    "df.isnull().sum().sort_values(ascending=False)*100/df.shape[0]"
   ]
  },
  {
   "cell_type": "markdown",
   "metadata": {},
   "source": [
    "Dropping columns with more than 65% null values - SPEEDING, INTKEY , PEDROWNOTGRNT , EXCEPTRSNDESC, INATTENTIONIND <br>\n",
    "Though Speeding and Inattention are important factors, we cannot proceed with these features due to very high null values"
   ]
  },
  {
   "cell_type": "markdown",
   "metadata": {},
   "source": [
    "We can drop columns that have no impact on the accident severity. We see that below columns have no influence.<br>\n",
    "\n",
    "'SEVERITYDESC', - This is a description of the class.Numerical values are captured in SEVERITYCODE. <br>\n",
    "'SEVERITYCODE.1' - This is a duplicate column<br>\n",
    "'EXCEPTRSNCODE'/'EXCEPTRSNDESC' - No information provided<br>\n",
    "'OBJECTID' - Unique key to identify every row.<br>\n",
    "'REPORTNO' - No impact on accident predictions. It is a report number<br>\n",
    "'INCDATE'- Duplicate column, Date and Time are captured in INCDTTM.<br>\n",
    "'INCKEY' - Unique key to identify<br>\n",
    "'COLDETKEY' - Unique key to identify each collisions<br>\n",
    "'ST_COLDESC' - Descriptive field/data is already represented by ST_COLCODE<br>\n",
    "'SDOT_COLDESC' - Descriptive field/data is already represented by SDOT_COLCODE<br>\n",
    "'STATUS' - No information provided<br>\n",
    "'INTKEY' - Key given for the intersections, nearly 67% is null<br>\n",
    "'LOCATION' - Descriptive field and already represented by X and Y co-ordinates<br>\n",
    "'ST_COLCODE' - This is almost a duplicate field of SDOT_COLCODE. Since State collision code has few null values, dropping this column<br>\n",
    "'ADDRTYPE' - Junctiontype column gives a better description on the type of address and this column has only high level information <br>"
   ]
  },
  {
   "cell_type": "code",
   "execution_count": 67,
   "metadata": {
    "ExecuteTime": {
     "end_time": "2020-11-04T17:17:32.102984Z",
     "start_time": "2020-11-04T17:17:31.933351Z"
    }
   },
   "outputs": [
    {
     "name": "stdout",
     "output_type": "stream",
     "text": [
      "194673\n",
      "194673\n",
      "194673\n",
      "194670\n"
     ]
    }
   ],
   "source": [
    "print(df.OBJECTID.nunique())\n",
    "print(df.INCKEY.nunique())\n",
    "print(df.COLDETKEY.nunique())\n",
    "print(df.REPORTNO.nunique())"
   ]
  },
  {
   "cell_type": "code",
   "execution_count": 68,
   "metadata": {
    "ExecuteTime": {
     "end_time": "2020-11-04T17:17:32.314001Z",
     "start_time": "2020-11-04T17:17:32.106460Z"
    }
   },
   "outputs": [],
   "source": [
    "#Dropping columns with more than 80% null values\n",
    "df.drop(columns=['SPEEDING'  ,'PEDROWNOTGRNT','EXCEPTRSNDESC', 'INATTENTIONIND'], inplace=True)\n",
    "\n",
    "#Dropping columns that have no impact on the accident severity\n",
    "df.drop(columns=['SEVERITYDESC','SEVERITYCODE.1','EXCEPTRSNCODE', 'OBJECTID', 'REPORTNO', 'INCDATE','INCKEY', 'INTKEY', 'COLDETKEY','SDOTCOLNUM', 'ST_COLDESC', 'SDOT_COLDESC', 'STATUS', 'LOCATION', 'ST_COLCODE', 'ADDRTYPE'], inplace=True)"
   ]
  },
  {
   "cell_type": "markdown",
   "metadata": {},
   "source": [
    "Converting INCDTTM to DateTime column and getting the hour of the day for the accidents and checking if the days on which accidents have happened are weekends are not"
   ]
  },
  {
   "cell_type": "code",
   "execution_count": 69,
   "metadata": {
    "ExecuteTime": {
     "end_time": "2020-11-04T17:18:14.407322Z",
     "start_time": "2020-11-04T17:17:32.373447Z"
    }
   },
   "outputs": [],
   "source": [
    "df.INCDTTM=pd.to_datetime(df.INCDTTM)\n",
    "df['HOUR']=df.INCDTTM.dt.hour\n",
    "df['day']=df.INCDTTM.dt.dayofweek\n",
    "df['WEEKEND']=df.day.apply(lambda x: 1 if x >3 else 0)\n",
    "df.drop(columns=['INCDTTM', 'day'], inplace=True)"
   ]
  },
  {
   "cell_type": "code",
   "execution_count": 70,
   "metadata": {
    "ExecuteTime": {
     "end_time": "2020-11-04T17:18:14.483460Z",
     "start_time": "2020-11-04T17:18:14.412357Z"
    }
   },
   "outputs": [
    {
     "data": {
      "text/html": [
       "<div>\n",
       "<style scoped>\n",
       "    .dataframe tbody tr th:only-of-type {\n",
       "        vertical-align: middle;\n",
       "    }\n",
       "\n",
       "    .dataframe tbody tr th {\n",
       "        vertical-align: top;\n",
       "    }\n",
       "\n",
       "    .dataframe thead th {\n",
       "        text-align: right;\n",
       "    }\n",
       "</style>\n",
       "<table border=\"1\" class=\"dataframe\">\n",
       "  <thead>\n",
       "    <tr style=\"text-align: right;\">\n",
       "      <th></th>\n",
       "      <th>SEVERITYCODE</th>\n",
       "      <th>X</th>\n",
       "      <th>Y</th>\n",
       "      <th>COLLISIONTYPE</th>\n",
       "      <th>PERSONCOUNT</th>\n",
       "      <th>PEDCOUNT</th>\n",
       "      <th>PEDCYLCOUNT</th>\n",
       "      <th>VEHCOUNT</th>\n",
       "      <th>JUNCTIONTYPE</th>\n",
       "      <th>SDOT_COLCODE</th>\n",
       "      <th>UNDERINFL</th>\n",
       "      <th>WEATHER</th>\n",
       "      <th>ROADCOND</th>\n",
       "      <th>LIGHTCOND</th>\n",
       "      <th>SEGLANEKEY</th>\n",
       "      <th>CROSSWALKKEY</th>\n",
       "      <th>HITPARKEDCAR</th>\n",
       "      <th>HOUR</th>\n",
       "      <th>WEEKEND</th>\n",
       "    </tr>\n",
       "  </thead>\n",
       "  <tbody>\n",
       "    <tr>\n",
       "      <th>49380</th>\n",
       "      <td>1</td>\n",
       "      <td>-122.353831</td>\n",
       "      <td>47.617699</td>\n",
       "      <td>Left Turn</td>\n",
       "      <td>2</td>\n",
       "      <td>0</td>\n",
       "      <td>0</td>\n",
       "      <td>2</td>\n",
       "      <td>At Intersection (intersection related)</td>\n",
       "      <td>11</td>\n",
       "      <td>0</td>\n",
       "      <td>Clear</td>\n",
       "      <td>Dry</td>\n",
       "      <td>Daylight</td>\n",
       "      <td>0</td>\n",
       "      <td>0</td>\n",
       "      <td>N</td>\n",
       "      <td>0</td>\n",
       "      <td>0</td>\n",
       "    </tr>\n",
       "    <tr>\n",
       "      <th>139268</th>\n",
       "      <td>1</td>\n",
       "      <td>-122.326529</td>\n",
       "      <td>47.678713</td>\n",
       "      <td>Parked Car</td>\n",
       "      <td>2</td>\n",
       "      <td>0</td>\n",
       "      <td>0</td>\n",
       "      <td>2</td>\n",
       "      <td>Mid-Block (not related to intersection)</td>\n",
       "      <td>0</td>\n",
       "      <td>N</td>\n",
       "      <td>Unknown</td>\n",
       "      <td>NaN</td>\n",
       "      <td>Daylight</td>\n",
       "      <td>0</td>\n",
       "      <td>0</td>\n",
       "      <td>Y</td>\n",
       "      <td>17</td>\n",
       "      <td>1</td>\n",
       "    </tr>\n",
       "    <tr>\n",
       "      <th>40075</th>\n",
       "      <td>2</td>\n",
       "      <td>-122.270155</td>\n",
       "      <td>47.536444</td>\n",
       "      <td>Other</td>\n",
       "      <td>2</td>\n",
       "      <td>0</td>\n",
       "      <td>0</td>\n",
       "      <td>2</td>\n",
       "      <td>Driveway Junction</td>\n",
       "      <td>11</td>\n",
       "      <td>0</td>\n",
       "      <td>Raining</td>\n",
       "      <td>Wet</td>\n",
       "      <td>Daylight</td>\n",
       "      <td>0</td>\n",
       "      <td>0</td>\n",
       "      <td>N</td>\n",
       "      <td>7</td>\n",
       "      <td>0</td>\n",
       "    </tr>\n",
       "  </tbody>\n",
       "</table>\n",
       "</div>"
      ],
      "text/plain": [
       "        SEVERITYCODE           X          Y COLLISIONTYPE  PERSONCOUNT  \\\n",
       "49380              1 -122.353831  47.617699     Left Turn            2   \n",
       "139268             1 -122.326529  47.678713    Parked Car            2   \n",
       "40075              2 -122.270155  47.536444         Other            2   \n",
       "\n",
       "        PEDCOUNT  PEDCYLCOUNT  VEHCOUNT  \\\n",
       "49380          0            0         2   \n",
       "139268         0            0         2   \n",
       "40075          0            0         2   \n",
       "\n",
       "                                   JUNCTIONTYPE  SDOT_COLCODE UNDERINFL  \\\n",
       "49380    At Intersection (intersection related)            11         0   \n",
       "139268  Mid-Block (not related to intersection)             0         N   \n",
       "40075                         Driveway Junction            11         0   \n",
       "\n",
       "        WEATHER ROADCOND LIGHTCOND  SEGLANEKEY  CROSSWALKKEY HITPARKEDCAR  \\\n",
       "49380     Clear      Dry  Daylight           0             0            N   \n",
       "139268  Unknown      NaN  Daylight           0             0            Y   \n",
       "40075   Raining      Wet  Daylight           0             0            N   \n",
       "\n",
       "        HOUR  WEEKEND  \n",
       "49380      0        0  \n",
       "139268    17        1  \n",
       "40075      7        0  "
      ]
     },
     "execution_count": 70,
     "metadata": {},
     "output_type": "execute_result"
    }
   ],
   "source": [
    "df.sample(3)"
   ]
  },
  {
   "cell_type": "code",
   "execution_count": 71,
   "metadata": {
    "ExecuteTime": {
     "end_time": "2020-11-04T17:18:14.825370Z",
     "start_time": "2020-11-04T17:18:14.487917Z"
    }
   },
   "outputs": [
    {
     "data": {
      "text/plain": [
       "SEVERITYCODE        0\n",
       "HITPARKEDCAR        0\n",
       "CROSSWALKKEY        0\n",
       "SEGLANEKEY          0\n",
       "HOUR                0\n",
       "VEHCOUNT            0\n",
       "SDOT_COLCODE        0\n",
       "PEDCOUNT            0\n",
       "PERSONCOUNT         0\n",
       "PEDCYLCOUNT         0\n",
       "WEEKEND             0\n",
       "UNDERINFL        4884\n",
       "COLLISIONTYPE    4904\n",
       "ROADCOND         5012\n",
       "WEATHER          5081\n",
       "LIGHTCOND        5170\n",
       "Y                5334\n",
       "X                5334\n",
       "JUNCTIONTYPE     6329\n",
       "dtype: int64"
      ]
     },
     "execution_count": 71,
     "metadata": {},
     "output_type": "execute_result"
    }
   ],
   "source": [
    "df.isnull().sum().sort_values()"
   ]
  },
  {
   "cell_type": "markdown",
   "metadata": {},
   "source": [
    "Dropping empty null records"
   ]
  },
  {
   "cell_type": "code",
   "execution_count": 72,
   "metadata": {
    "ExecuteTime": {
     "end_time": "2020-11-04T17:18:15.182637Z",
     "start_time": "2020-11-04T17:18:14.828372Z"
    }
   },
   "outputs": [],
   "source": [
    "df.dropna(inplace=True)"
   ]
  },
  {
   "cell_type": "code",
   "execution_count": 73,
   "metadata": {
    "ExecuteTime": {
     "end_time": "2020-11-04T17:18:15.394508Z",
     "start_time": "2020-11-04T17:18:15.188023Z"
    }
   },
   "outputs": [
    {
     "name": "stdout",
     "output_type": "stream",
     "text": [
      "SEVERITYCODE     0\n",
      "X                0\n",
      "Y                0\n",
      "COLLISIONTYPE    0\n",
      "PERSONCOUNT      0\n",
      "PEDCOUNT         0\n",
      "PEDCYLCOUNT      0\n",
      "VEHCOUNT         0\n",
      "JUNCTIONTYPE     0\n",
      "SDOT_COLCODE     0\n",
      "UNDERINFL        0\n",
      "WEATHER          0\n",
      "ROADCOND         0\n",
      "LIGHTCOND        0\n",
      "SEGLANEKEY       0\n",
      "CROSSWALKKEY     0\n",
      "HITPARKEDCAR     0\n",
      "HOUR             0\n",
      "WEEKEND          0\n",
      "dtype: int64\n",
      "(180067, 19)\n"
     ]
    }
   ],
   "source": [
    "print(df.isnull().sum())\n",
    "print(df.shape)"
   ]
  },
  {
   "cell_type": "markdown",
   "metadata": {},
   "source": [
    "### Exploratory Data Analysis"
   ]
  },
  {
   "cell_type": "markdown",
   "metadata": {},
   "source": [
    "SEVERITYCODE is our target label / Y. We need to find the distribution of classes "
   ]
  },
  {
   "cell_type": "code",
   "execution_count": 74,
   "metadata": {
    "ExecuteTime": {
     "end_time": "2020-11-04T17:18:15.505164Z",
     "start_time": "2020-11-04T17:18:15.398503Z"
    }
   },
   "outputs": [
    {
     "data": {
      "text/plain": [
       "1    0.690065\n",
       "2    0.309935\n",
       "Name: SEVERITYCODE, dtype: float64"
      ]
     },
     "execution_count": 74,
     "metadata": {},
     "output_type": "execute_result"
    }
   ],
   "source": [
    "df.SEVERITYCODE.value_counts(normalize=True)"
   ]
  },
  {
   "cell_type": "code",
   "execution_count": 75,
   "metadata": {
    "ExecuteTime": {
     "end_time": "2020-11-04T17:18:16.242007Z",
     "start_time": "2020-11-04T17:18:15.535335Z"
    }
   },
   "outputs": [
    {
     "data": {
      "text/plain": [
       "<AxesSubplot:>"
      ]
     },
     "execution_count": 75,
     "metadata": {},
     "output_type": "execute_result"
    },
    {
     "data": {
      "image/png": "[encoded data removed]",
      "text/plain": [
       "<Figure size 432x288 with 1 Axes>"
      ]
     },
     "metadata": {
      "needs_background": "light"
     },
     "output_type": "display_data"
    }
   ],
   "source": [
    "df.SEVERITYCODE.value_counts(normalize=True).plot(kind=\"bar\")"
   ]
  },
  {
   "cell_type": "markdown",
   "metadata": {},
   "source": [
    "There are 2 classes:<br> \n",
    "1 - Property Damage <br> \n",
    "2 - Injury<br> \n",
    "Majority of the observations are type 1 and hence data is slightly imbalanced"
   ]
  },
  {
   "cell_type": "markdown",
   "metadata": {},
   "source": [
    "Model performance is affected by imbalance in the classes so we will under-sample the dominant class to rebalance the dataset. The resulting dataset will be smaller, but this will actually make the computations faster."
   ]
  },
  {
   "cell_type": "code",
   "execution_count": 76,
   "metadata": {
    "ExecuteTime": {
     "end_time": "2020-11-04T17:18:16.488978Z",
     "start_time": "2020-11-04T17:18:16.244570Z"
    }
   },
   "outputs": [
    {
     "data": {
      "text/html": [
       "<div>\n",
       "<style scoped>\n",
       "    .dataframe tbody tr th:only-of-type {\n",
       "        vertical-align: middle;\n",
       "    }\n",
       "\n",
       "    .dataframe tbody tr th {\n",
       "        vertical-align: top;\n",
       "    }\n",
       "\n",
       "    .dataframe thead th {\n",
       "        text-align: right;\n",
       "    }\n",
       "</style>\n",
       "<table border=\"1\" class=\"dataframe\">\n",
       "  <thead>\n",
       "    <tr style=\"text-align: right;\">\n",
       "      <th></th>\n",
       "      <th>SEVERITYCODE</th>\n",
       "      <th>X</th>\n",
       "      <th>Y</th>\n",
       "      <th>COLLISIONTYPE</th>\n",
       "      <th>PERSONCOUNT</th>\n",
       "      <th>PEDCOUNT</th>\n",
       "      <th>PEDCYLCOUNT</th>\n",
       "      <th>VEHCOUNT</th>\n",
       "      <th>JUNCTIONTYPE</th>\n",
       "      <th>SDOT_COLCODE</th>\n",
       "      <th>UNDERINFL</th>\n",
       "      <th>WEATHER</th>\n",
       "      <th>ROADCOND</th>\n",
       "      <th>LIGHTCOND</th>\n",
       "      <th>SEGLANEKEY</th>\n",
       "      <th>CROSSWALKKEY</th>\n",
       "      <th>HITPARKEDCAR</th>\n",
       "      <th>HOUR</th>\n",
       "      <th>WEEKEND</th>\n",
       "    </tr>\n",
       "  </thead>\n",
       "  <tbody>\n",
       "    <tr>\n",
       "      <th>83963</th>\n",
       "      <td>2</td>\n",
       "      <td>-122.316579</td>\n",
       "      <td>47.661292</td>\n",
       "      <td>Angles</td>\n",
       "      <td>3</td>\n",
       "      <td>0</td>\n",
       "      <td>0</td>\n",
       "      <td>2</td>\n",
       "      <td>At Intersection (intersection related)</td>\n",
       "      <td>11</td>\n",
       "      <td>N</td>\n",
       "      <td>Clear</td>\n",
       "      <td>Dry</td>\n",
       "      <td>Daylight</td>\n",
       "      <td>0</td>\n",
       "      <td>0</td>\n",
       "      <td>N</td>\n",
       "      <td>11</td>\n",
       "      <td>0</td>\n",
       "    </tr>\n",
       "    <tr>\n",
       "      <th>132726</th>\n",
       "      <td>1</td>\n",
       "      <td>-122.316845</td>\n",
       "      <td>47.614682</td>\n",
       "      <td>Parked Car</td>\n",
       "      <td>2</td>\n",
       "      <td>0</td>\n",
       "      <td>0</td>\n",
       "      <td>2</td>\n",
       "      <td>Mid-Block (not related to intersection)</td>\n",
       "      <td>14</td>\n",
       "      <td>N</td>\n",
       "      <td>Clear</td>\n",
       "      <td>Dry</td>\n",
       "      <td>Unknown</td>\n",
       "      <td>0</td>\n",
       "      <td>0</td>\n",
       "      <td>N</td>\n",
       "      <td>16</td>\n",
       "      <td>0</td>\n",
       "    </tr>\n",
       "    <tr>\n",
       "      <th>27690</th>\n",
       "      <td>2</td>\n",
       "      <td>-122.331215</td>\n",
       "      <td>47.600878</td>\n",
       "      <td>Left Turn</td>\n",
       "      <td>6</td>\n",
       "      <td>0</td>\n",
       "      <td>0</td>\n",
       "      <td>5</td>\n",
       "      <td>At Intersection (intersection related)</td>\n",
       "      <td>11</td>\n",
       "      <td>1</td>\n",
       "      <td>Clear</td>\n",
       "      <td>Dry</td>\n",
       "      <td>Dark - Street Lights On</td>\n",
       "      <td>0</td>\n",
       "      <td>0</td>\n",
       "      <td>N</td>\n",
       "      <td>1</td>\n",
       "      <td>0</td>\n",
       "    </tr>\n",
       "  </tbody>\n",
       "</table>\n",
       "</div>"
      ],
      "text/plain": [
       "        SEVERITYCODE           X          Y COLLISIONTYPE  PERSONCOUNT  \\\n",
       "83963              2 -122.316579  47.661292        Angles            3   \n",
       "132726             1 -122.316845  47.614682    Parked Car            2   \n",
       "27690              2 -122.331215  47.600878     Left Turn            6   \n",
       "\n",
       "        PEDCOUNT  PEDCYLCOUNT  VEHCOUNT  \\\n",
       "83963          0            0         2   \n",
       "132726         0            0         2   \n",
       "27690          0            0         5   \n",
       "\n",
       "                                   JUNCTIONTYPE  SDOT_COLCODE UNDERINFL  \\\n",
       "83963    At Intersection (intersection related)            11         N   \n",
       "132726  Mid-Block (not related to intersection)            14         N   \n",
       "27690    At Intersection (intersection related)            11         1   \n",
       "\n",
       "       WEATHER ROADCOND                LIGHTCOND  SEGLANEKEY  CROSSWALKKEY  \\\n",
       "83963    Clear      Dry                 Daylight           0             0   \n",
       "132726   Clear      Dry                  Unknown           0             0   \n",
       "27690    Clear      Dry  Dark - Street Lights On           0             0   \n",
       "\n",
       "       HITPARKEDCAR  HOUR  WEEKEND  \n",
       "83963             N    11        0  \n",
       "132726            N    16        0  \n",
       "27690             N     1        0  "
      ]
     },
     "execution_count": 76,
     "metadata": {},
     "output_type": "execute_result"
    }
   ],
   "source": [
    "sev2 = len(df[df.SEVERITYCODE == 2])\n",
    "\n",
    "sev1_ind = df[df.SEVERITYCODE == 1].index\n",
    "sev2_ind = df[df.SEVERITYCODE == 2].index\n",
    "\n",
    "rand_indices = np.random.choice(sev1_ind,sev2, replace=False)\n",
    "\n",
    "under_sample_indices = np.concatenate([sev2_ind,rand_indices])\n",
    "data = df.loc[under_sample_indices]\n",
    "data.sample(3)"
   ]
  },
  {
   "cell_type": "code",
   "execution_count": 77,
   "metadata": {
    "ExecuteTime": {
     "end_time": "2020-11-04T17:18:16.807489Z",
     "start_time": "2020-11-04T17:18:16.494987Z"
    }
   },
   "outputs": [
    {
     "data": {
      "text/plain": [
       "<AxesSubplot:>"
      ]
     },
     "execution_count": 77,
     "metadata": {},
     "output_type": "execute_result"
    },
    {
     "data": {
      "image/png": "[encoded data removed]",
      "text/plain": [
       "<Figure size 432x288 with 1 Axes>"
      ]
     },
     "metadata": {
      "needs_background": "light"
     },
     "output_type": "display_data"
    }
   ],
   "source": [
    "data.SEVERITYCODE.value_counts(normalize=True).plot(kind=\"bar\")"
   ]
  },
  {
   "cell_type": "markdown",
   "metadata": {},
   "source": [
    "Now both types are balanced"
   ]
  },
  {
   "cell_type": "code",
   "execution_count": 78,
   "metadata": {
    "ExecuteTime": {
     "end_time": "2020-11-04T17:18:16.824631Z",
     "start_time": "2020-11-04T17:18:16.812236Z"
    }
   },
   "outputs": [
    {
     "name": "stdout",
     "output_type": "stream",
     "text": [
      "(111618, 19)\n"
     ]
    },
    {
     "data": {
      "text/plain": [
       "SEVERITYCODE       int64\n",
       "X                float64\n",
       "Y                float64\n",
       "COLLISIONTYPE     object\n",
       "PERSONCOUNT        int64\n",
       "PEDCOUNT           int64\n",
       "PEDCYLCOUNT        int64\n",
       "VEHCOUNT           int64\n",
       "JUNCTIONTYPE      object\n",
       "SDOT_COLCODE       int64\n",
       "UNDERINFL         object\n",
       "WEATHER           object\n",
       "ROADCOND          object\n",
       "LIGHTCOND         object\n",
       "SEGLANEKEY         int64\n",
       "CROSSWALKKEY       int64\n",
       "HITPARKEDCAR      object\n",
       "HOUR               int64\n",
       "WEEKEND            int64\n",
       "dtype: object"
      ]
     },
     "execution_count": 78,
     "metadata": {},
     "output_type": "execute_result"
    }
   ],
   "source": [
    "print(data.shape)\n",
    "data.dtypes"
   ]
  },
  {
   "cell_type": "markdown",
   "metadata": {},
   "source": [
    "Data Cleaning to fix data types of the some of the columns "
   ]
  },
  {
   "cell_type": "code",
   "execution_count": 79,
   "metadata": {
    "ExecuteTime": {
     "end_time": "2020-11-04T17:18:17.062475Z",
     "start_time": "2020-11-04T17:18:16.830717Z"
    }
   },
   "outputs": [
    {
     "data": {
      "text/plain": [
       "0    105658\n",
       "1      5960\n",
       "Name: UNDERINFL, dtype: int64"
      ]
     },
     "execution_count": 79,
     "metadata": {},
     "output_type": "execute_result"
    }
   ],
   "source": [
    "data.UNDERINFL.replace(to_replace=['Y', 'N'], value=[1,0], inplace=True)\n",
    "data.UNDERINFL=data.UNDERINFL.astype(\"int\")\n",
    "data.UNDERINFL.value_counts()"
   ]
  },
  {
   "cell_type": "code",
   "execution_count": 80,
   "metadata": {
    "ExecuteTime": {
     "end_time": "2020-11-04T17:18:17.359665Z",
     "start_time": "2020-11-04T17:18:17.066747Z"
    }
   },
   "outputs": [
    {
     "data": {
      "text/plain": [
       "0    108808\n",
       "1      2810\n",
       "Name: HITPARKEDCAR, dtype: int64"
      ]
     },
     "execution_count": 80,
     "metadata": {},
     "output_type": "execute_result"
    }
   ],
   "source": [
    "data.HITPARKEDCAR.replace(to_replace=['Y', 'N'], value=[1,0], inplace=True)\n",
    "data.HITPARKEDCAR=data.HITPARKEDCAR.astype(\"int\")\n",
    "data.HITPARKEDCAR.value_counts()"
   ]
  },
  {
   "cell_type": "code",
   "execution_count": 81,
   "metadata": {
    "ExecuteTime": {
     "end_time": "2020-11-04T17:18:18.022242Z",
     "start_time": "2020-11-04T17:18:17.364533Z"
    }
   },
   "outputs": [
    {
     "data": {
      "text/plain": [
       "<AxesSubplot:xlabel='HOUR'>"
      ]
     },
     "execution_count": 81,
     "metadata": {},
     "output_type": "execute_result"
    },
    {
     "data": {
      "image/png": "[encoded data removed]",
      "text/plain": [
       "<Figure size 360x216 with 1 Axes>"
      ]
     },
     "metadata": {
      "needs_background": "light"
     },
     "output_type": "display_data"
    }
   ],
   "source": [
    "pd.crosstab(data.HOUR, data.SEVERITYCODE).plot(kind=\"line\", figsize=(5,3))"
   ]
  },
  {
   "cell_type": "markdown",
   "metadata": {},
   "source": [
    "At midnight and in the afternoon/early evening, number of accident cases is on the higher side. At early evening, injury causing accidents are more."
   ]
  },
  {
   "cell_type": "code",
   "execution_count": 82,
   "metadata": {
    "ExecuteTime": {
     "end_time": "2020-11-04T17:18:18.337164Z",
     "start_time": "2020-11-04T17:18:18.029585Z"
    }
   },
   "outputs": [
    {
     "data": {
      "text/plain": [
       "<AxesSubplot:xlabel='WEEKEND'>"
      ]
     },
     "execution_count": 82,
     "metadata": {},
     "output_type": "execute_result"
    },
    {
     "data": {
      "image/png": "[encoded data removed]",
      "text/plain": [
       "<Figure size 360x216 with 1 Axes>"
      ]
     },
     "metadata": {
      "needs_background": "light"
     },
     "output_type": "display_data"
    }
   ],
   "source": [
    "pd.crosstab(data.WEEKEND, data.SEVERITYCODE).plot(kind=\"bar\", figsize=(5,3))"
   ]
  },
  {
   "cell_type": "markdown",
   "metadata": {},
   "source": [
    "On Weekends, comparitively less number of accidents . Out of these, we see equal proportion of property damage and injury based accidents be it weekends or weekdays"
   ]
  },
  {
   "cell_type": "code",
   "execution_count": 83,
   "metadata": {
    "ExecuteTime": {
     "end_time": "2020-11-04T17:18:18.832358Z",
     "start_time": "2020-11-04T17:18:18.341759Z"
    }
   },
   "outputs": [
    {
     "data": {
      "text/plain": [
       "<AxesSubplot:xlabel='JUNCTIONTYPE'>"
      ]
     },
     "execution_count": 83,
     "metadata": {},
     "output_type": "execute_result"
    },
    {
     "data": {
      "image/png": "[encoded data removed]",
      "text/plain": [
       "<Figure size 360x216 with 1 Axes>"
      ]
     },
     "metadata": {
      "needs_background": "light"
     },
     "output_type": "display_data"
    }
   ],
   "source": [
    "pd.crosstab(data.JUNCTIONTYPE, data.SEVERITYCODE).plot(kind=\"bar\", figsize=(5,3))"
   ]
  },
  {
   "cell_type": "markdown",
   "metadata": {},
   "source": [
    "Property damage is maximum with accidents at Midblock, while at intersection injury resulting accidents are maximum ."
   ]
  },
  {
   "cell_type": "code",
   "execution_count": 84,
   "metadata": {
    "ExecuteTime": {
     "end_time": "2020-11-04T17:18:21.587848Z",
     "start_time": "2020-11-04T17:18:18.838072Z"
    }
   },
   "outputs": [
    {
     "data": {
      "text/plain": [
       "<AxesSubplot:xlabel='WEATHER'>"
      ]
     },
     "execution_count": 84,
     "metadata": {},
     "output_type": "execute_result"
    },
    {
     "data": {
      "image/png": "[encoded data removed]",
      "text/plain": [
       "<Figure size 1008x576 with 3 Axes>"
      ]
     },
     "metadata": {
      "needs_background": "light"
     },
     "output_type": "display_data"
    }
   ],
   "source": [
    "plt.figure(1)\n",
    "plt.subplot(2,3,1)\n",
    "pd.crosstab(data.ROADCOND, data.SEVERITYCODE).plot(kind=\"bar\", ax=plt.gca(), figsize=(14,8)) \n",
    "plt.subplot(2,3,2)\n",
    "pd.crosstab(data.LIGHTCOND, data.SEVERITYCODE).plot(kind=\"bar\", ax=plt.gca())\n",
    "plt.subplot(2,3,3)\n",
    "pd.crosstab(data.WEATHER, data.SEVERITYCODE).plot(kind=\"bar\", ax=plt.gca())\n"
   ]
  },
  {
   "cell_type": "markdown",
   "metadata": {},
   "source": [
    "**Majority of accidents seem to happen when roads are dry in daylight and clear weather**"
   ]
  },
  {
   "cell_type": "code",
   "execution_count": 85,
   "metadata": {
    "ExecuteTime": {
     "end_time": "2020-11-04T17:18:24.398880Z",
     "start_time": "2020-11-04T17:18:21.591228Z"
    }
   },
   "outputs": [
    {
     "data": {
      "text/plain": [
       "array([[<AxesSubplot:title={'center':'CROSSWALKKEY'}>,\n",
       "        <AxesSubplot:title={'center':'HITPARKEDCAR'}>,\n",
       "        <AxesSubplot:title={'center':'HOUR'}>,\n",
       "        <AxesSubplot:title={'center':'PEDCOUNT'}>],\n",
       "       [<AxesSubplot:title={'center':'PEDCYLCOUNT'}>,\n",
       "        <AxesSubplot:title={'center':'PERSONCOUNT'}>,\n",
       "        <AxesSubplot:title={'center':'SDOT_COLCODE'}>,\n",
       "        <AxesSubplot:title={'center':'SEGLANEKEY'}>],\n",
       "       [<AxesSubplot:title={'center':'SEVERITYCODE'}>,\n",
       "        <AxesSubplot:title={'center':'UNDERINFL'}>,\n",
       "        <AxesSubplot:title={'center':'VEHCOUNT'}>,\n",
       "        <AxesSubplot:title={'center':'WEEKEND'}>],\n",
       "       [<AxesSubplot:title={'center':'X'}>,\n",
       "        <AxesSubplot:title={'center':'Y'}>, <AxesSubplot:>,\n",
       "        <AxesSubplot:>]], dtype=object)"
      ]
     },
     "execution_count": 85,
     "metadata": {},
     "output_type": "execute_result"
    },
    {
     "data": {
      "image/png": "[encoded data removed]",
      "text/plain": [
       "<Figure size 720x576 with 16 Axes>"
      ]
     },
     "metadata": {
      "needs_background": "light"
     },
     "output_type": "display_data"
    }
   ],
   "source": [
    "data.hist(figsize=(10,8))\n"
   ]
  },
  {
   "cell_type": "markdown",
   "metadata": {
    "ExecuteTime": {
     "end_time": "2020-11-02T18:00:54.743452Z",
     "start_time": "2020-11-02T18:00:54.520621Z"
    }
   },
   "source": [
    "Following features do not show much variation. They seem to be constant<br>\n",
    "'SEGLANEKEY', \n",
    "'CROSSWALKKEY',\n",
    "'HITPARKEDCAR'"
   ]
  },
  {
   "cell_type": "code",
   "execution_count": 86,
   "metadata": {
    "ExecuteTime": {
     "end_time": "2020-11-04T17:18:25.142495Z",
     "start_time": "2020-11-04T17:18:24.403916Z"
    }
   },
   "outputs": [
    {
     "data": {
      "text/plain": [
       "<AxesSubplot:xlabel='X', ylabel='Y'>"
      ]
     },
     "execution_count": 86,
     "metadata": {},
     "output_type": "execute_result"
    },
    {
     "data": {
      "image/png": "[encoded data removed]",
      "text/plain": [
       "<Figure size 432x288 with 1 Axes>"
      ]
     },
     "metadata": {
      "needs_background": "light"
     },
     "output_type": "display_data"
    }
   ],
   "source": [
    "sns.scatterplot(data.X, data.Y)"
   ]
  },
  {
   "cell_type": "markdown",
   "metadata": {
    "ExecuteTime": {
     "end_time": "2020-11-04T18:45:15.972116Z",
     "start_time": "2020-11-04T18:41:44.849976Z"
    }
   },
   "source": [
    "seattle_map=folium.Map(location=[47.608013, -122.335167], zoom_start=11)\n",
    "acc_loc_pair=list(zip(data.Y, data.X))\n",
    "acc_location_list=[[item1, item2] for (item1,item2) in acc_loc_pair]\n",
    "for i in range(0, len(acc_location_list)):\n",
    "    folium.CircleMarker(acc_location_list[i], color ='#6ccc31').add_to(seattle_map)\n",
    "seattle_map\n",
    "\n"
   ]
  },
  {
   "cell_type": "markdown",
   "metadata": {},
   "source": [
    "Plotting X and Y co-ordinates on a map, I see that accident locations are spread across Seattle. Almost all areas are covered.<br>"
   ]
  },
  {
   "cell_type": "code",
   "execution_count": 87,
   "metadata": {
    "ExecuteTime": {
     "end_time": "2020-11-04T17:18:25.162741Z",
     "start_time": "2020-11-04T17:18:25.146882Z"
    }
   },
   "outputs": [
    {
     "data": {
      "text/plain": [
       "Index(['SEVERITYCODE', 'X', 'Y', 'COLLISIONTYPE', 'PERSONCOUNT', 'PEDCOUNT',\n",
       "       'PEDCYLCOUNT', 'VEHCOUNT', 'JUNCTIONTYPE', 'SDOT_COLCODE', 'UNDERINFL',\n",
       "       'WEATHER', 'ROADCOND', 'LIGHTCOND', 'SEGLANEKEY', 'CROSSWALKKEY',\n",
       "       'HITPARKEDCAR', 'HOUR', 'WEEKEND'],\n",
       "      dtype='object')"
      ]
     },
     "execution_count": 87,
     "metadata": {},
     "output_type": "execute_result"
    }
   ],
   "source": [
    "data.columns"
   ]
  },
  {
   "cell_type": "markdown",
   "metadata": {},
   "source": [
    "Converting categorical variables to numeric data using one hot coding method"
   ]
  },
  {
   "cell_type": "code",
   "execution_count": 88,
   "metadata": {
    "ExecuteTime": {
     "end_time": "2020-11-04T17:18:25.643486Z",
     "start_time": "2020-11-04T17:18:25.168116Z"
    }
   },
   "outputs": [
    {
     "data": {
      "text/html": [
       "<div>\n",
       "<style scoped>\n",
       "    .dataframe tbody tr th:only-of-type {\n",
       "        vertical-align: middle;\n",
       "    }\n",
       "\n",
       "    .dataframe tbody tr th {\n",
       "        vertical-align: top;\n",
       "    }\n",
       "\n",
       "    .dataframe thead th {\n",
       "        text-align: right;\n",
       "    }\n",
       "</style>\n",
       "<table border=\"1\" class=\"dataframe\">\n",
       "  <thead>\n",
       "    <tr style=\"text-align: right;\">\n",
       "      <th></th>\n",
       "      <th>ROADCOND_Ice</th>\n",
       "      <th>ROADCOND_Oil</th>\n",
       "      <th>ROADCOND_Other</th>\n",
       "      <th>ROADCOND_Sand/Mud/Dirt</th>\n",
       "      <th>ROADCOND_Snow/Slush</th>\n",
       "      <th>ROADCOND_Standing Water</th>\n",
       "      <th>ROADCOND_Unknown</th>\n",
       "      <th>ROADCOND_Wet</th>\n",
       "      <th>WEATHER_Clear</th>\n",
       "      <th>WEATHER_Fog/Smog/Smoke</th>\n",
       "      <th>...</th>\n",
       "      <th>PEDCOUNT</th>\n",
       "      <th>PEDCYLCOUNT</th>\n",
       "      <th>VEHCOUNT</th>\n",
       "      <th>SDOT_COLCODE</th>\n",
       "      <th>UNDERINFL</th>\n",
       "      <th>SEGLANEKEY</th>\n",
       "      <th>CROSSWALKKEY</th>\n",
       "      <th>HITPARKEDCAR</th>\n",
       "      <th>HOUR</th>\n",
       "      <th>WEEKEND</th>\n",
       "    </tr>\n",
       "  </thead>\n",
       "  <tbody>\n",
       "    <tr>\n",
       "      <th>84584</th>\n",
       "      <td>0</td>\n",
       "      <td>0</td>\n",
       "      <td>0</td>\n",
       "      <td>0</td>\n",
       "      <td>0</td>\n",
       "      <td>0</td>\n",
       "      <td>0</td>\n",
       "      <td>1</td>\n",
       "      <td>0</td>\n",
       "      <td>0</td>\n",
       "      <td>...</td>\n",
       "      <td>0</td>\n",
       "      <td>0</td>\n",
       "      <td>2</td>\n",
       "      <td>14</td>\n",
       "      <td>0</td>\n",
       "      <td>0</td>\n",
       "      <td>0</td>\n",
       "      <td>0</td>\n",
       "      <td>9</td>\n",
       "      <td>0</td>\n",
       "    </tr>\n",
       "    <tr>\n",
       "      <th>131599</th>\n",
       "      <td>0</td>\n",
       "      <td>0</td>\n",
       "      <td>0</td>\n",
       "      <td>0</td>\n",
       "      <td>0</td>\n",
       "      <td>0</td>\n",
       "      <td>0</td>\n",
       "      <td>0</td>\n",
       "      <td>1</td>\n",
       "      <td>0</td>\n",
       "      <td>...</td>\n",
       "      <td>0</td>\n",
       "      <td>0</td>\n",
       "      <td>3</td>\n",
       "      <td>26</td>\n",
       "      <td>1</td>\n",
       "      <td>0</td>\n",
       "      <td>0</td>\n",
       "      <td>0</td>\n",
       "      <td>2</td>\n",
       "      <td>1</td>\n",
       "    </tr>\n",
       "    <tr>\n",
       "      <th>72821</th>\n",
       "      <td>0</td>\n",
       "      <td>0</td>\n",
       "      <td>0</td>\n",
       "      <td>0</td>\n",
       "      <td>0</td>\n",
       "      <td>0</td>\n",
       "      <td>0</td>\n",
       "      <td>0</td>\n",
       "      <td>0</td>\n",
       "      <td>0</td>\n",
       "      <td>...</td>\n",
       "      <td>0</td>\n",
       "      <td>0</td>\n",
       "      <td>2</td>\n",
       "      <td>14</td>\n",
       "      <td>0</td>\n",
       "      <td>0</td>\n",
       "      <td>0</td>\n",
       "      <td>0</td>\n",
       "      <td>7</td>\n",
       "      <td>0</td>\n",
       "    </tr>\n",
       "  </tbody>\n",
       "</table>\n",
       "<p>3 rows × 55 columns</p>\n",
       "</div>"
      ],
      "text/plain": [
       "        ROADCOND_Ice  ROADCOND_Oil  ROADCOND_Other  ROADCOND_Sand/Mud/Dirt  \\\n",
       "84584              0             0               0                       0   \n",
       "131599             0             0               0                       0   \n",
       "72821              0             0               0                       0   \n",
       "\n",
       "        ROADCOND_Snow/Slush  ROADCOND_Standing Water  ROADCOND_Unknown  \\\n",
       "84584                     0                        0                 0   \n",
       "131599                    0                        0                 0   \n",
       "72821                     0                        0                 0   \n",
       "\n",
       "        ROADCOND_Wet  WEATHER_Clear  WEATHER_Fog/Smog/Smoke  ...  PEDCOUNT  \\\n",
       "84584              1              0                       0  ...         0   \n",
       "131599             0              1                       0  ...         0   \n",
       "72821              0              0                       0  ...         0   \n",
       "\n",
       "        PEDCYLCOUNT  VEHCOUNT  SDOT_COLCODE  UNDERINFL  SEGLANEKEY  \\\n",
       "84584             0         2            14          0           0   \n",
       "131599            0         3            26          1           0   \n",
       "72821             0         2            14          0           0   \n",
       "\n",
       "        CROSSWALKKEY  HITPARKEDCAR  HOUR  WEEKEND  \n",
       "84584              0             0     9        0  \n",
       "131599             0             0     2        1  \n",
       "72821              0             0     7        0  \n",
       "\n",
       "[3 rows x 55 columns]"
      ]
     },
     "execution_count": 88,
     "metadata": {},
     "output_type": "execute_result"
    }
   ],
   "source": [
    "df_X1 = pd.get_dummies(data[['ROADCOND','WEATHER','LIGHTCOND', 'JUNCTIONTYPE', 'COLLISIONTYPE']],drop_first=True)\n",
    "data.drop(['ROADCOND','WEATHER','LIGHTCOND', 'JUNCTIONTYPE', 'COLLISIONTYPE'],axis=1,inplace=True)\n",
    "df_master = pd.concat([df_X1,data], axis=1)\n",
    "df_master.sample(3)\n"
   ]
  },
  {
   "cell_type": "markdown",
   "metadata": {},
   "source": [
    "### Feature Selection"
   ]
  },
  {
   "cell_type": "markdown",
   "metadata": {},
   "source": [
    "Picking our target variable - SEVERITYCODE"
   ]
  },
  {
   "cell_type": "code",
   "execution_count": 29,
   "metadata": {
    "ExecuteTime": {
     "end_time": "2020-11-04T14:16:00.003709Z",
     "start_time": "2020-11-04T14:15:59.959702Z"
    }
   },
   "outputs": [],
   "source": [
    "y=df_master.SEVERITYCODE.values\n",
    "df_master.drop(columns=['SEVERITYCODE'], inplace=True)"
   ]
  },
  {
   "cell_type": "code",
   "execution_count": 30,
   "metadata": {
    "ExecuteTime": {
     "end_time": "2020-11-04T14:16:00.018705Z",
     "start_time": "2020-11-04T14:16:00.006702Z"
    }
   },
   "outputs": [
    {
     "data": {
      "text/plain": [
       "Index(['ROADCOND_Ice', 'ROADCOND_Oil', 'ROADCOND_Other',\n",
       "       'ROADCOND_Sand/Mud/Dirt', 'ROADCOND_Snow/Slush',\n",
       "       'ROADCOND_Standing Water', 'ROADCOND_Unknown', 'ROADCOND_Wet',\n",
       "       'WEATHER_Clear', 'WEATHER_Fog/Smog/Smoke', 'WEATHER_Other',\n",
       "       'WEATHER_Overcast', 'WEATHER_Partly Cloudy', 'WEATHER_Raining',\n",
       "       'WEATHER_Severe Crosswind', 'WEATHER_Sleet/Hail/Freezing Rain',\n",
       "       'WEATHER_Snowing', 'WEATHER_Unknown',\n",
       "       'LIGHTCOND_Dark - Street Lights Off',\n",
       "       'LIGHTCOND_Dark - Street Lights On',\n",
       "       'LIGHTCOND_Dark - Unknown Lighting', 'LIGHTCOND_Dawn',\n",
       "       'LIGHTCOND_Daylight', 'LIGHTCOND_Dusk', 'LIGHTCOND_Other',\n",
       "       'LIGHTCOND_Unknown',\n",
       "       'JUNCTIONTYPE_At Intersection (intersection related)',\n",
       "       'JUNCTIONTYPE_Driveway Junction',\n",
       "       'JUNCTIONTYPE_Mid-Block (but intersection related)',\n",
       "       'JUNCTIONTYPE_Mid-Block (not related to intersection)',\n",
       "       'JUNCTIONTYPE_Ramp Junction', 'JUNCTIONTYPE_Unknown',\n",
       "       'COLLISIONTYPE_Cycles', 'COLLISIONTYPE_Head On',\n",
       "       'COLLISIONTYPE_Left Turn', 'COLLISIONTYPE_Other',\n",
       "       'COLLISIONTYPE_Parked Car', 'COLLISIONTYPE_Pedestrian',\n",
       "       'COLLISIONTYPE_Rear Ended', 'COLLISIONTYPE_Right Turn',\n",
       "       'COLLISIONTYPE_Sideswipe', 'X', 'Y', 'PERSONCOUNT', 'PEDCOUNT',\n",
       "       'PEDCYLCOUNT', 'VEHCOUNT', 'SDOT_COLCODE', 'UNDERINFL', 'SEGLANEKEY',\n",
       "       'CROSSWALKKEY', 'HITPARKEDCAR', 'HOUR', 'WEEKEND'],\n",
       "      dtype='object')"
      ]
     },
     "execution_count": 30,
     "metadata": {},
     "output_type": "execute_result"
    }
   ],
   "source": [
    "df_master.columns"
   ]
  },
  {
   "cell_type": "markdown",
   "metadata": {},
   "source": [
    "There are 55 attributes now and we need to perform some feature selection to pick the ones that influence the severity code. We will perform chi squared test on the categorical variables and get the p-values. Features with p-value > 0.05 can be rejected because greater p-value indicates no relationship between the target and itself."
   ]
  },
  {
   "cell_type": "markdown",
   "metadata": {},
   "source": [
    "**Feature selection using chi2 test**"
   ]
  },
  {
   "cell_type": "code",
   "execution_count": 31,
   "metadata": {
    "ExecuteTime": {
     "end_time": "2020-11-04T14:16:00.175054Z",
     "start_time": "2020-11-04T14:16:00.021703Z"
    }
   },
   "outputs": [
    {
     "name": "stdout",
     "output_type": "stream",
     "text": [
      "(111618, 44) [[ 0  0  0  0  0  0  0  1  0  0  0  1  0  0  0  0  0  0  0  0  0  0  1  0\n",
      "   0  0  1  0  0  0  0  0  0  0  0  0  0  0  0  0  0  0  0 11]\n",
      " [ 0  0  0  0  0  0  0  1  0  0  0  0  0  1  0  0  0  0  0  0  0  0  1  0\n",
      "   0  0  1  0  0  0  0  0  0  0  0  0  0  0  0  0  0  0  0 11]\n",
      " [ 0  0  0  0  0  0  0  0  1  0  0  0  0  0  0  0  0  0  0  0  0  0  1  0\n",
      "   0  0  1  0  0  0  0  0  1  0  0  0  0  0  0  0  0  0  0 51]]\n"
     ]
    }
   ],
   "source": [
    "chi_features=['ROADCOND_Ice', 'ROADCOND_Oil', 'ROADCOND_Other',\n",
    "       'ROADCOND_Sand/Mud/Dirt', 'ROADCOND_Snow/Slush',\n",
    "       'ROADCOND_Standing Water', 'ROADCOND_Unknown', 'ROADCOND_Wet',\n",
    "       'WEATHER_Clear', 'WEATHER_Fog/Smog/Smoke', 'WEATHER_Other',\n",
    "       'WEATHER_Overcast', 'WEATHER_Partly Cloudy', 'WEATHER_Raining',\n",
    "       'WEATHER_Severe Crosswind', 'WEATHER_Sleet/Hail/Freezing Rain',\n",
    "       'WEATHER_Snowing', 'WEATHER_Unknown',\n",
    "       'LIGHTCOND_Dark - Street Lights Off',\n",
    "       'LIGHTCOND_Dark - Street Lights On',\n",
    "       'LIGHTCOND_Dark - Unknown Lighting', 'LIGHTCOND_Dawn',\n",
    "       'LIGHTCOND_Daylight', 'LIGHTCOND_Dusk', 'LIGHTCOND_Other',\n",
    "       'LIGHTCOND_Unknown',\n",
    "       'JUNCTIONTYPE_At Intersection (intersection related)',\n",
    "       'JUNCTIONTYPE_Driveway Junction',\n",
    "       'JUNCTIONTYPE_Mid-Block (but intersection related)',\n",
    "       'JUNCTIONTYPE_Mid-Block (not related to intersection)',\n",
    "       'JUNCTIONTYPE_Ramp Junction', 'JUNCTIONTYPE_Unknown',\n",
    "       'COLLISIONTYPE_Cycles', 'COLLISIONTYPE_Head On',\n",
    "       'COLLISIONTYPE_Left Turn', 'COLLISIONTYPE_Other',\n",
    "       'COLLISIONTYPE_Parked Car', 'COLLISIONTYPE_Pedestrian',\n",
    "       'COLLISIONTYPE_Rear Ended', 'COLLISIONTYPE_Right Turn',\n",
    "       'COLLISIONTYPE_Sideswipe', 'UNDERINFL', 'WEEKEND', 'SDOT_COLCODE']\n",
    "\n",
    "X_chi=df_master[chi_features].values\n",
    "print(X_chi.shape, X_chi[0:3])\n"
   ]
  },
  {
   "cell_type": "code",
   "execution_count": 32,
   "metadata": {
    "ExecuteTime": {
     "end_time": "2020-11-04T14:16:02.859979Z",
     "start_time": "2020-11-04T14:16:00.177099Z"
    }
   },
   "outputs": [
    {
     "name": "stdout",
     "output_type": "stream",
     "text": [
      "ROADCOND_Other                        1.000000\n",
      "LIGHTCOND_Dark - Unknown Lighting     1.000000\n",
      "WEATHER_Sleet/Hail/Freezing Rain      0.789268\n",
      "ROADCOND_Sand/Mud/Dirt                0.757621\n",
      "WEATHER_Severe Crosswind              0.617075\n",
      "JUNCTIONTYPE_Unknown                  0.563703\n",
      "WEATHER_Fog/Smog/Smoke                0.424656\n",
      "WEATHER_Partly Cloudy                 0.317311\n",
      "JUNCTIONTYPE_Ramp Junction            0.317311\n",
      "ROADCOND_Oil                          0.223017\n",
      "ROADCOND_Standing Water               0.204084\n",
      "LIGHTCOND_Dawn                        0.029722\n",
      "JUNCTIONTYPE_Driveway Junction        0.027780\n",
      "LIGHTCOND_Dark - Street Lights Off    0.022343\n",
      "dtype: float64\n"
     ]
    },
    {
     "data": {
      "text/plain": [
       "<AxesSubplot:>"
      ]
     },
     "execution_count": 32,
     "metadata": {},
     "output_type": "execute_result"
    },
    {
     "data": {
      "image/png": "[encoded data removed]",
      "text/plain": [
       "<Figure size 576x504 with 1 Axes>"
      ]
     },
     "metadata": {
      "needs_background": "light"
     },
     "output_type": "display_data"
    }
   ],
   "source": [
    "from sklearn.feature_selection import chi2\n",
    "chi_scores = chi2(X_chi,y)\n",
    "p_values = pd.Series(chi_scores[1],index = chi_features)\n",
    "p_values.sort_values(ascending = False , inplace = True)\n",
    "print(p_values[0:14]) #selecting top 14\n",
    "plt.figure(figsize=(8,7))\n",
    "p_values.plot.bar()\n"
   ]
  },
  {
   "cell_type": "markdown",
   "metadata": {},
   "source": [
    "Based on chi squared test results, we rejected features with p-value > 0.05. Also, 'SEGLANEKEY', 'CROSSWALKKEY',\n",
    "'HITPARKEDCAR' are almost constant for the whole dataset. These features do not show any patterns of variation. "
   ]
  },
  {
   "cell_type": "code",
   "execution_count": 33,
   "metadata": {
    "ExecuteTime": {
     "end_time": "2020-11-04T14:16:02.938979Z",
     "start_time": "2020-11-04T14:16:02.868984Z"
    }
   },
   "outputs": [],
   "source": [
    "X_master=df_master[['ROADCOND_Ice', 'ROADCOND_Snow/Slush',\n",
    "       'ROADCOND_Unknown', 'ROADCOND_Wet',\n",
    "       'WEATHER_Clear', 'WEATHER_Other',\n",
    "       'WEATHER_Overcast',  'WEATHER_Raining',\n",
    "               'WEATHER_Snowing', 'WEATHER_Unknown',\n",
    "       'LIGHTCOND_Dark - Street Lights Off',\n",
    "       'LIGHTCOND_Dark - Street Lights On',\n",
    "       'LIGHTCOND_Dawn','LIGHTCOND_Daylight', 'LIGHTCOND_Dusk', 'LIGHTCOND_Other',\n",
    "       'LIGHTCOND_Unknown','JUNCTIONTYPE_At Intersection (intersection related)',\n",
    "              'JUNCTIONTYPE_Mid-Block (but intersection related)',\n",
    "       'JUNCTIONTYPE_Mid-Block (not related to intersection)',\n",
    "        'COLLISIONTYPE_Cycles', 'COLLISIONTYPE_Head On',\n",
    "       'COLLISIONTYPE_Left Turn', 'COLLISIONTYPE_Other',\n",
    "       'COLLISIONTYPE_Parked Car', 'COLLISIONTYPE_Pedestrian',\n",
    "       'COLLISIONTYPE_Rear Ended', 'COLLISIONTYPE_Right Turn',\n",
    "       'COLLISIONTYPE_Sideswipe', 'X', 'Y', 'PERSONCOUNT', 'PEDCOUNT',\n",
    "       'PEDCYLCOUNT', 'VEHCOUNT', 'SDOT_COLCODE', 'UNDERINFL', 'HOUR', 'WEEKEND']].values"
   ]
  },
  {
   "cell_type": "markdown",
   "metadata": {
    "ExecuteTime": {
     "end_time": "2020-11-03T09:40:48.795573Z",
     "start_time": "2020-11-03T09:40:48.774398Z"
    }
   },
   "source": [
    "**Data Normalization**"
   ]
  },
  {
   "cell_type": "code",
   "execution_count": 34,
   "metadata": {
    "ExecuteTime": {
     "end_time": "2020-11-04T14:16:03.235980Z",
     "start_time": "2020-11-04T14:16:02.942984Z"
    }
   },
   "outputs": [
    {
     "name": "stdout",
     "output_type": "stream",
     "text": [
      "[[-0.07741788 -0.06959422 -0.22744227  1.69030851 -1.24283465 -0.05883199\n",
      "   2.38447359 -0.47086244 -0.0661983  -0.22946116 -0.07753491 -0.58846194\n",
      "  -0.11785059  0.75320405 -0.18303005 -0.0305388  -0.21546529  1.28440082\n",
      "  -0.37551077 -0.86578329 -0.21589747 -0.10968959 -0.29855776 -0.3619021\n",
      "  -0.47649068 -0.24083303 -0.50295759 -0.12234151 -0.30210327  0.24001068\n",
      "   1.46188842 -0.39138977 -0.24083444 -0.21610893  0.07318514 -0.53060707\n",
      "  -0.23501047  0.35776752 -0.84645555]\n",
      " [-0.07741788 -0.06959422 -0.22744227  1.69030851 -1.24283465 -0.05883199\n",
      "  -0.41937978  2.12376253 -0.0661983  -0.22946116 -0.07753491 -0.58846194\n",
      "  -0.11785059  0.75320405 -0.18303005 -0.0305388  -0.21546529  1.28440082\n",
      "  -0.37551077 -0.86578329 -0.21589747 -0.10968959 -0.29855776 -0.3619021\n",
      "  -0.47649068 -0.24083303 -0.50295759 -0.12234151 -0.30210327  0.79992853\n",
      "  -1.30135139 -0.39138977 -0.24083444 -0.21610893  0.07318514 -0.53060707\n",
      "  -0.23501047 -0.51425907 -0.84645555]] (111618, 39)\n"
     ]
    },
    {
     "data": {
      "text/plain": [
       "array([2, 2, 2, 2, 2], dtype=int64)"
      ]
     },
     "execution_count": 34,
     "metadata": {},
     "output_type": "execute_result"
    }
   ],
   "source": [
    "X=StandardScaler().fit(X_master).transform(X_master)\n",
    "print(X[0:2], X.shape)\n",
    "y[0:5]"
   ]
  },
  {
   "cell_type": "markdown",
   "metadata": {},
   "source": [
    "Splitting dataset into Training and Test sets"
   ]
  },
  {
   "cell_type": "code",
   "execution_count": 35,
   "metadata": {
    "ExecuteTime": {
     "end_time": "2020-11-04T14:16:03.411974Z",
     "start_time": "2020-11-04T14:16:03.238980Z"
    }
   },
   "outputs": [
    {
     "data": {
      "text/plain": [
       "((78132, 39), (78132,))"
      ]
     },
     "execution_count": 35,
     "metadata": {},
     "output_type": "execute_result"
    }
   ],
   "source": [
    "from sklearn.model_selection import train_test_split\n",
    "X_train, X_test, y_train , y_test=train_test_split(X_master,y,test_size=0.3, random_state=42)\n",
    "X_train.shape, y_train.shape"
   ]
  },
  {
   "cell_type": "markdown",
   "metadata": {
    "ExecuteTime": {
     "end_time": "2020-10-28T06:03:55.811549Z",
     "start_time": "2020-10-28T06:03:55.580778Z"
    }
   },
   "source": [
    "### Modeling and Evaluation\n",
    "\n",
    "**Classification algorithms that we will be running**<br>\n",
    "\n",
    "1. Decision Trees\n",
    "2. RandomForest Classifier\n",
    "3. SVM\n",
    "4. Logistic Regression"
   ]
  },
  {
   "cell_type": "markdown",
   "metadata": {},
   "source": [
    "#### DecisionTrees"
   ]
  },
  {
   "cell_type": "code",
   "execution_count": 36,
   "metadata": {
    "ExecuteTime": {
     "end_time": "2020-11-04T14:16:10.745159Z",
     "start_time": "2020-11-04T14:16:03.415977Z"
    }
   },
   "outputs": [
    {
     "name": "stdout",
     "output_type": "stream",
     "text": [
      "[1 2 2 1 1 2 2 2 2 2 2 1 2 2 2 2 2 1 2 1]\n",
      "0.7059368094128889\n",
      "0.6995288385217706\n",
      "[0.70856972 0.69722305 0.70797253 0.69513288 0.70468797 0.69244551\n",
      " 0.69235364 0.6911589  0.70728793 0.70131422]\n"
     ]
    },
    {
     "data": {
      "text/plain": [
       "0.6998146346579678"
      ]
     },
     "execution_count": 36,
     "metadata": {},
     "output_type": "execute_result"
    }
   ],
   "source": [
    "from sklearn.tree import DecisionTreeClassifier\n",
    "from sklearn.metrics import f1_score, accuracy_score\n",
    "dt=DecisionTreeClassifier(criterion='entropy', max_depth=10, class_weight=\"balanced\")\n",
    "dt.fit(X_train, y_train)\n",
    "yhat=dt.predict(X_test)\n",
    "print(yhat[0:20])\n",
    "print(accuracy_score(y_test,yhat ))\n",
    "print(f1_score(y_test, dt.predict(X_test), average=\"weighted\"))\n",
    "\n",
    "from sklearn.model_selection import cross_val_score\n",
    "scores=cross_val_score(dt, X_test, y_test, cv=10)\n",
    "print(scores)\n",
    "scores.mean()"
   ]
  },
  {
   "cell_type": "code",
   "execution_count": 37,
   "metadata": {
    "ExecuteTime": {
     "end_time": "2020-11-04T14:16:11.263159Z",
     "start_time": "2020-11-04T14:16:10.764163Z"
    }
   },
   "outputs": [
    {
     "name": "stdout",
     "output_type": "stream",
     "text": [
      "[[ 9326  7319]\n",
      " [ 2528 14313]]\n"
     ]
    },
    {
     "data": {
      "text/plain": [
       "<AxesSubplot:>"
      ]
     },
     "execution_count": 37,
     "metadata": {},
     "output_type": "execute_result"
    },
    {
     "data": {
      "image/png": "[encoded data removed]",
      "text/plain": [
       "<Figure size 432x288 with 2 Axes>"
      ]
     },
     "metadata": {
      "needs_background": "light"
     },
     "output_type": "display_data"
    }
   ],
   "source": [
    "from sklearn.metrics import confusion_matrix\n",
    "cnf=confusion_matrix(y_test,dt.predict(X_test))\n",
    "print(cnf)\n",
    "labels = ['True_Neg-28%','False_Pos-21.4%','False_Neg-7.7%','True_Pos-42.6%']\n",
    "labels = np.asarray(labels).reshape(2,2)\n",
    "sns.heatmap(cnf, annot=labels, fmt='', cmap=\"Blues\")"
   ]
  },
  {
   "cell_type": "markdown",
   "metadata": {},
   "source": [
    "We get an accuracy of 70% with decision trees - which is good score.  In the confusion matrix, we see a high percentage of False-Positives - around 21%. We will run other algorithms and evaluate accuracy"
   ]
  },
  {
   "cell_type": "markdown",
   "metadata": {},
   "source": [
    "### RandomForest Classifier"
   ]
  },
  {
   "cell_type": "code",
   "execution_count": 54,
   "metadata": {
    "ExecuteTime": {
     "end_time": "2020-11-04T15:28:36.300324Z",
     "start_time": "2020-11-04T15:27:12.553952Z"
    }
   },
   "outputs": [
    {
     "name": "stdout",
     "output_type": "stream",
     "text": [
      "0.7114316430747178\n",
      "0.6789594338682348\n"
     ]
    },
    {
     "data": {
      "text/plain": [
       "0.7078481049461794"
      ]
     },
     "execution_count": 54,
     "metadata": {},
     "output_type": "execute_result"
    }
   ],
   "source": [
    "from sklearn.ensemble import RandomForestClassifier  \n",
    "rf = RandomForestClassifier(criterion='entropy', n_estimators=70, random_state = 50, max_depth=15)\n",
    "rf.fit(X_train, y_train)\n",
    "print(accuracy_score(y_test, rf.predict(X_test)))\n",
    "print(f1_score(y_test, rf.predict(X_test)))\n",
    "\n",
    "\n",
    "scores=cross_val_score(rf, X_test, y_test, cv=10)\n",
    "scores.mean()"
   ]
  },
  {
   "cell_type": "markdown",
   "metadata": {},
   "source": [
    "### Logistic Regression"
   ]
  },
  {
   "cell_type": "code",
   "execution_count": 39,
   "metadata": {
    "ExecuteTime": {
     "end_time": "2020-11-04T14:17:14.081372Z",
     "start_time": "2020-11-04T14:17:08.459744Z"
    }
   },
   "outputs": [
    {
     "name": "stdout",
     "output_type": "stream",
     "text": [
      "0.7013080093173266\n",
      "0.6980625601638896\n",
      "0.5454316215760889\n",
      "[[ 9957  6688]\n",
      " [ 3314 13527]]\n"
     ]
    },
    {
     "data": {
      "text/plain": [
       "<AxesSubplot:>"
      ]
     },
     "execution_count": 39,
     "metadata": {},
     "output_type": "execute_result"
    },
    {
     "data": {
      "image/png": "[encoded data removed]",
      "text/plain": [
       "<Figure size 432x288 with 2 Axes>"
      ]
     },
     "metadata": {
      "needs_background": "light"
     },
     "output_type": "display_data"
    }
   ],
   "source": [
    "from sklearn.linear_model import LogisticRegression\n",
    "from sklearn.metrics import jaccard_score,f1_score,accuracy_score, log_loss\n",
    "lr=LogisticRegression(solver='liblinear', C=0.9)\n",
    "lr.fit(X_train, y_train)\n",
    "print(accuracy_score(y_test, lr.predict(X_test)))\n",
    "print(f1_score(y_test, lr.predict(X_test), average='weighted'))\n",
    "print(log_loss(y_test, lr.predict_proba(X_test)))\n",
    "\n",
    "\n",
    "cnf=confusion_matrix(y_test,lr.predict(X_test))\n",
    "print(cnf)\n",
    "labels = ['True_Neg','False_Pos','False_Neg','True_Pos']\n",
    "labels = np.asarray(labels).reshape(2,2)\n",
    "sns.heatmap(cnf, annot=labels, fmt='')"
   ]
  },
  {
   "cell_type": "code",
   "execution_count": 40,
   "metadata": {
    "ExecuteTime": {
     "end_time": "2020-11-04T14:17:20.631372Z",
     "start_time": "2020-11-04T14:17:14.085379Z"
    }
   },
   "outputs": [
    {
     "data": {
      "text/plain": [
       "0.700232803672203"
      ]
     },
     "execution_count": 40,
     "metadata": {},
     "output_type": "execute_result"
    }
   ],
   "source": [
    "from sklearn.model_selection import cross_val_score\n",
    "scores=cross_val_score(lr, X_test, y_test, cv=10)\n",
    "scores.mean()"
   ]
  },
  {
   "cell_type": "markdown",
   "metadata": {},
   "source": [
    "### SVM"
   ]
  },
  {
   "cell_type": "code",
   "execution_count": 41,
   "metadata": {
    "ExecuteTime": {
     "end_time": "2020-11-04T10:57:33.447985Z",
     "start_time": "2020-11-04T10:37:06.314230Z"
    }
   },
   "outputs": [
    {
     "data": {
      "text/plain": [
       "0.7013378725437496"
      ]
     },
     "execution_count": 41,
     "metadata": {},
     "output_type": "execute_result"
    }
   ],
   "source": [
    "from sklearn import svm\n",
    "svm_model=svm.SVC(kernel=\"linear\", C=0.1)\n",
    "svm_model.fit(X_train, y_train)\n",
    "accuracy_score(y_test, svm_model.predict(X_test))"
   ]
  },
  {
   "cell_type": "code",
   "execution_count": null,
   "metadata": {
    "ExecuteTime": {
     "start_time": "2020-11-04T12:36:17.507Z"
    }
   },
   "outputs": [
    {
     "name": "stdout",
     "output_type": "stream",
     "text": [
      "0.6981210594083272\n"
     ]
    }
   ],
   "source": [
    "print(f1_score(y_test, svm_model.predict(X_test), average='weighted'))\n",
    "scores=cross_val_score(svm_model, X_test, y_test, cv=10)\n",
    "scores.mean()"
   ]
  },
  {
   "cell_type": "markdown",
   "metadata": {},
   "source": [
    "**XGBOOST**"
   ]
  },
  {
   "cell_type": "code",
   "execution_count": 57,
   "metadata": {
    "ExecuteTime": {
     "end_time": "2020-11-04T15:57:00.862516Z",
     "start_time": "2020-11-04T15:56:14.692593Z"
    }
   },
   "outputs": [
    {
     "name": "stdout",
     "output_type": "stream",
     "text": [
      "0.7102072507913755\n",
      "0.7068646121704952\n"
     ]
    }
   ],
   "source": [
    "dtrain = xgb.DMatrix(X_train, label=y_train)\n",
    "dtest = xgb.DMatrix(X_test, label=y_test)\n",
    "\n",
    "xg_model = xgb.XGBRFClassifier(learning_rate=0.1, max_depth=15, n_estimators=70)\n",
    "xg_model.fit(X_train, y_train)\n",
    "y_pred = xg_model.predict(X_test)\n",
    "print(accuracy_score(y_test, y_pred))\n",
    "print(f1_score(y_test, xg_model.predict(X_test), average='weighted'))\n",
    "    "
   ]
  },
  {
   "cell_type": "code",
   "execution_count": 58,
   "metadata": {
    "ExecuteTime": {
     "end_time": "2020-11-04T16:05:45.502997Z",
     "start_time": "2020-11-04T15:57:21.494786Z"
    }
   },
   "outputs": [
    {
     "name": "stdout",
     "output_type": "stream",
     "text": [
      "[0.70450474 0.70693627 0.70203507 0.7171381  0.70600282 0.70293101\n",
      " 0.71470626 0.71432228 0.70907462 0.70369896]\n"
     ]
    },
    {
     "data": {
      "text/plain": [
       "0.7081350129143309"
      ]
     },
     "execution_count": 58,
     "metadata": {},
     "output_type": "execute_result"
    }
   ],
   "source": [
    "scores=cross_val_score(xg_model, X_train, y_train, cv=10)\n",
    "print(scores)\n",
    "scores.mean()"
   ]
  },
  {
   "cell_type": "markdown",
   "metadata": {},
   "source": [
    "### Evaluation"
   ]
  },
  {
   "cell_type": "markdown",
   "metadata": {
    "ExecuteTime": {
     "end_time": "2020-10-29T07:06:55.206310Z",
     "start_time": "2020-10-29T07:06:54.226998Z"
    }
   },
   "source": [
    "Accuracy_score, f1 score , confusion matrix and cross validation scores were used to evaludate models and we see that  models exhibit an accuracy of around 70-71% with Decision trees, XGBOOST, RandomForest Trees and logistic regression with slight variation.<br>\n",
    "Of all the models, Random Forest Classifier performs the best - 71% accuracy. However, there is room for improvement for these models. The confusion matrix shows misclassification in False Positives category"
   ]
  },
  {
   "cell_type": "markdown",
   "metadata": {},
   "source": [
    "\n",
    "| Classification Model |Accuracy |\tF1-Score |\tCross Val Score\t| Log Loss |\n",
    "| --- | --- | --- |---|--- |\n",
    "DecisionTrees |\t0.706\t|0.699|\t0.6998|\tNA\n",
    "RandomForest | 0.71\t|0.678|\t0.7\t|NA\n",
    "SVM|\t0.7|\t0.698|\t\t|NA\n",
    "Logistic Regression|\t0.702|\t0.698|\t0.7|\t0.54\n",
    "XGBoost Random Forest Classifier\t|0.7146\t|0.706|\t0.7|\tNA\n",
    "\n"
   ]
  },
  {
   "cell_type": "markdown",
   "metadata": {},
   "source": [
    "### Conclusion\n",
    "\n",
    "\n",
    "In this study, we analyzed the relationship between accident severity and general environment conditions and the road lanes. We identified that some of the weather, road, light conditions, are among the most important features that affect the severity. Classification models were built to predict the severity of accidents and this information can be very useful to people taking the corresponding routes and to the traffic department.Model accuracy can be improved by getting data on other features such as attention indicators and speeding, driver’s profile, vehicle working status or any related events which may lead to distraction/deviation."
   ]
  }
 ],
 "metadata": {
  "kernelspec": {
   "display_name": "Python 3",
   "language": "python",
   "name": "python3"
  },
  "language_info": {
   "codemirror_mode": {
    "name": "ipython",
    "version": 3
   },
   "file_extension": ".py",
   "mimetype": "text/x-python",
   "name": "python",
   "nbconvert_exporter": "python",
   "pygments_lexer": "ipython3",
   "version": "3.6.1"
  }
 },
 "nbformat": 4,
 "nbformat_minor": 4
}
